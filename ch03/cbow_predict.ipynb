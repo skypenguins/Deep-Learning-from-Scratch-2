{
 "cells": [
  {
   "cell_type": "markdown",
   "metadata": {},
   "source": [
    "### 3.2.1 CBOWモデルの推論処理"
   ]
  },
  {
   "cell_type": "code",
   "execution_count": 1,
   "metadata": {},
   "outputs": [
    {
     "data": {
      "text/plain": [
       "backward! (generic function with 5 methods)"
      ]
     },
     "execution_count": 1,
     "metadata": {},
     "output_type": "execute_result"
    }
   ],
   "source": [
    "include(\"../common/layers.jl\")"
   ]
  },
  {
   "cell_type": "code",
   "execution_count": 2,
   "metadata": {},
   "outputs": [
    {
     "data": {
      "text/plain": [
       "1×7 Array{Int64,2}:\n",
       " 0  0  1  0  0  0  0"
      ]
     },
     "execution_count": 2,
     "metadata": {},
     "output_type": "execute_result"
    }
   ],
   "source": [
    "# サンプルのコンテキストデータ\n",
    "c0 = [1 0 0 0 0 0 0]\n",
    "c1 = [0 0 1 0 0 0 0]"
   ]
  },
  {
   "cell_type": "code",
   "execution_count": 3,
   "metadata": {},
   "outputs": [
    {
     "data": {
      "text/plain": [
       "3×7 Array{Float64,2}:\n",
       " -1.72879   -1.23306   0.147707   1.40035   0.0439624   2.25422   -0.912609\n",
       "  0.259668  -1.68507   0.582957  -0.783079  0.481231   -0.492819  -0.533514\n",
       "  0.281509   0.379356  0.111827   2.92474   1.18387    -0.967457  -0.435664"
      ]
     },
     "execution_count": 3,
     "metadata": {},
     "output_type": "execute_result"
    }
   ],
   "source": [
    "# 重みの初期化\n",
    "W_in = randn(7, 3)\n",
    "W_out = randn(3, 7)"
   ]
  },
  {
   "cell_type": "code",
   "execution_count": 4,
   "metadata": {},
   "outputs": [
    {
     "data": {
      "text/plain": [
       "MatMul([[-1.7287856781472783 -1.2330608041340771 … 2.2542228567737377 -0.912609340380686; 0.25966846686457457 -1.6850674607613967 … -0.49281850877537775 -0.5335139435035546; 0.28150940393088325 0.37935576313394054 … -0.967456634277016 -0.43566421767116287]], [[0.0 0.0 … 0.0 0.0; 0.0 0.0 … 0.0 0.0; 0.0 0.0 … 0.0 0.0]], #undef)"
      ]
     },
     "execution_count": 4,
     "metadata": {},
     "output_type": "execute_result"
    }
   ],
   "source": [
    "# レイヤの生成\n",
    "in_layer0 = MatMul(W_in)\n",
    "in_layer1 = MatMul(W_in)\n",
    "out_layer = MatMul(W_out)"
   ]
  },
  {
   "cell_type": "code",
   "execution_count": 6,
   "metadata": {},
   "outputs": [
    {
     "data": {
      "text/plain": [
       "1×7 Array{Float64,2}:\n",
       " 0.300747  0.430197  0.0468165  2.09893  0.845491  -0.826355  -0.240274"
      ]
     },
     "execution_count": 6,
     "metadata": {},
     "output_type": "execute_result"
    }
   ],
   "source": [
    "# 順伝播\n",
    "h0 = forward!(in_layer0, c0)\n",
    "h1 = forward!(in_layer1, c1)\n",
    "h = 0.5 .* (h0 + h1)\n",
    "s = forward!(out_layer, h)"
   ]
  }
 ],
 "metadata": {
  "kernelspec": {
   "display_name": "Julia 1.5.2",
   "language": "julia",
   "name": "julia-1.5"
  },
  "language_info": {
   "file_extension": ".jl",
   "mimetype": "application/julia",
   "name": "julia",
   "version": "1.5.2"
  }
 },
 "nbformat": 4,
 "nbformat_minor": 4
}
