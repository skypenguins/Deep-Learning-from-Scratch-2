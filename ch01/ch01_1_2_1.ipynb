{
 "cells": [
  {
   "cell_type": "markdown",
   "metadata": {},
   "source": [
    "# １章 ニューラルネットワークの復習"
   ]
  },
  {
   "cell_type": "markdown",
   "metadata": {},
   "source": [
    "## 1.1 数学とPython(Julia)の復習"
   ]
  },
  {
   "cell_type": "markdown",
   "metadata": {},
   "source": [
    "### 1.1.1 ベクトルと行列"
   ]
  },
  {
   "cell_type": "code",
   "execution_count": 1,
   "metadata": {},
   "outputs": [],
   "source": [
    "using LinearAlgebra"
   ]
  },
  {
   "cell_type": "code",
   "execution_count": 2,
   "metadata": {},
   "outputs": [
    {
     "data": {
      "text/plain": [
       "3-element Array{Int64,1}:\n",
       " 1\n",
       " 2\n",
       " 3"
      ]
     },
     "execution_count": 2,
     "metadata": {},
     "output_type": "execute_result"
    }
   ],
   "source": [
    "# Juliaは列指向である．この記法はMATLAB由来．\n",
    "x = [1; 2; 3]"
   ]
  },
  {
   "cell_type": "code",
   "execution_count": 3,
   "metadata": {},
   "outputs": [
    {
     "data": {
      "text/plain": [
       "(3,)"
      ]
     },
     "execution_count": 3,
     "metadata": {},
     "output_type": "execute_result"
    }
   ],
   "source": [
    "# x.shape\n",
    "size(x)"
   ]
  },
  {
   "cell_type": "code",
   "execution_count": 4,
   "metadata": {},
   "outputs": [
    {
     "data": {
      "text/plain": [
       "1"
      ]
     },
     "execution_count": 4,
     "metadata": {},
     "output_type": "execute_result"
    }
   ],
   "source": [
    "# x.ndim\n",
    "ndims(x)"
   ]
  },
  {
   "cell_type": "code",
   "execution_count": 5,
   "metadata": {},
   "outputs": [
    {
     "data": {
      "text/plain": [
       "2×3 Array{Int64,2}:\n",
       " 1  2  3\n",
       " 4  5  6"
      ]
     },
     "execution_count": 5,
     "metadata": {},
     "output_type": "execute_result"
    }
   ],
   "source": [
    "W = [1 2 3; 4 5 6]"
   ]
  },
  {
   "cell_type": "code",
   "execution_count": 6,
   "metadata": {},
   "outputs": [
    {
     "data": {
      "text/plain": [
       "(2, 3)"
      ]
     },
     "execution_count": 6,
     "metadata": {},
     "output_type": "execute_result"
    }
   ],
   "source": [
    "# W.shape\n",
    "size(W)"
   ]
  },
  {
   "cell_type": "code",
   "execution_count": 7,
   "metadata": {},
   "outputs": [
    {
     "data": {
      "text/plain": [
       "2"
      ]
     },
     "execution_count": 7,
     "metadata": {},
     "output_type": "execute_result"
    }
   ],
   "source": [
    "# W.ndim\n",
    "ndims(W)"
   ]
  },
  {
   "cell_type": "markdown",
   "metadata": {},
   "source": [
    "### 1.1.2 行列の要素ごとの計算"
   ]
  },
  {
   "cell_type": "code",
   "execution_count": 8,
   "metadata": {},
   "outputs": [
    {
     "data": {
      "text/plain": [
       "2×3 Array{Int64,2}:\n",
       " 1  2  3\n",
       " 4  5  6"
      ]
     },
     "execution_count": 8,
     "metadata": {},
     "output_type": "execute_result"
    }
   ],
   "source": [
    "W = [1 2 3; 4 5 6]"
   ]
  },
  {
   "cell_type": "code",
   "execution_count": 9,
   "metadata": {},
   "outputs": [
    {
     "data": {
      "text/plain": [
       "2×3 Array{Int64,2}:\n",
       " 0  1  2\n",
       " 3  4  5"
      ]
     },
     "execution_count": 9,
     "metadata": {},
     "output_type": "execute_result"
    }
   ],
   "source": [
    "X = [0 1 2; 3 4 5]"
   ]
  },
  {
   "cell_type": "code",
   "execution_count": 10,
   "metadata": {},
   "outputs": [
    {
     "data": {
      "text/plain": [
       "2×3 Array{Int64,2}:\n",
       " 1  3   5\n",
       " 7  9  11"
      ]
     },
     "execution_count": 10,
     "metadata": {},
     "output_type": "execute_result"
    }
   ],
   "source": [
    "# element-wiseな計算は演算子にdot(.)を付ける．\n",
    "W .+ X"
   ]
  },
  {
   "cell_type": "code",
   "execution_count": 11,
   "metadata": {},
   "outputs": [
    {
     "data": {
      "text/plain": [
       "2×3 Array{Int64,2}:\n",
       "  0   2   6\n",
       " 12  20  30"
      ]
     },
     "execution_count": 11,
     "metadata": {},
     "output_type": "execute_result"
    }
   ],
   "source": [
    "# アダマール積\n",
    "W .* X"
   ]
  },
  {
   "cell_type": "markdown",
   "metadata": {},
   "source": [
    "### 1.1.3 ブロードキャスト"
   ]
  },
  {
   "cell_type": "code",
   "execution_count": 12,
   "metadata": {},
   "outputs": [
    {
     "data": {
      "text/plain": [
       "2×2 Array{Int64,2}:\n",
       " 1  2\n",
       " 3  4"
      ]
     },
     "execution_count": 12,
     "metadata": {},
     "output_type": "execute_result"
    }
   ],
   "source": [
    "A = [1 2; 3 4]"
   ]
  },
  {
   "cell_type": "code",
   "execution_count": 13,
   "metadata": {},
   "outputs": [
    {
     "data": {
      "text/plain": [
       "2×2 Array{Int64,2}:\n",
       " 10  20\n",
       " 30  40"
      ]
     },
     "execution_count": 13,
     "metadata": {},
     "output_type": "execute_result"
    }
   ],
   "source": [
    "A .* 10"
   ]
  },
  {
   "cell_type": "code",
   "execution_count": 14,
   "metadata": {},
   "outputs": [
    {
     "data": {
      "text/plain": [
       "2×2 Array{Int64,2}:\n",
       " 1  2\n",
       " 3  4"
      ]
     },
     "execution_count": 14,
     "metadata": {},
     "output_type": "execute_result"
    }
   ],
   "source": [
    "A = [1 2; 3 4]"
   ]
  },
  {
   "cell_type": "code",
   "execution_count": 15,
   "metadata": {},
   "outputs": [
    {
     "data": {
      "text/plain": [
       "1×2 Array{Int64,2}:\n",
       " 10  20"
      ]
     },
     "execution_count": 15,
     "metadata": {},
     "output_type": "execute_result"
    }
   ],
   "source": [
    "b = [10 20]"
   ]
  },
  {
   "cell_type": "code",
   "execution_count": 16,
   "metadata": {},
   "outputs": [
    {
     "data": {
      "text/plain": [
       "2×2 Array{Int64,2}:\n",
       " 10  40\n",
       " 30  80"
      ]
     },
     "execution_count": 16,
     "metadata": {},
     "output_type": "execute_result"
    }
   ],
   "source": [
    "A .* b"
   ]
  },
  {
   "cell_type": "markdown",
   "metadata": {},
   "source": [
    "### 1.1.4 ベクトルの内積と行列の積"
   ]
  },
  {
   "cell_type": "code",
   "execution_count": 17,
   "metadata": {},
   "outputs": [
    {
     "data": {
      "text/plain": [
       "1×3 Array{Int64,2}:\n",
       " 1  2  3"
      ]
     },
     "execution_count": 17,
     "metadata": {},
     "output_type": "execute_result"
    }
   ],
   "source": [
    "a = [1 2 3]"
   ]
  },
  {
   "cell_type": "code",
   "execution_count": 18,
   "metadata": {},
   "outputs": [
    {
     "data": {
      "text/plain": [
       "1×3 Array{Int64,2}:\n",
       " 4  5  6"
      ]
     },
     "execution_count": 18,
     "metadata": {},
     "output_type": "execute_result"
    }
   ],
   "source": [
    "b = [4 5 6]"
   ]
  },
  {
   "cell_type": "code",
   "execution_count": 19,
   "metadata": {},
   "outputs": [
    {
     "data": {
      "text/plain": [
       "32"
      ]
     },
     "execution_count": 19,
     "metadata": {},
     "output_type": "execute_result"
    }
   ],
   "source": [
    "# ベクトルの内積\n",
    "dot(a, b)"
   ]
  },
  {
   "cell_type": "code",
   "execution_count": 20,
   "metadata": {},
   "outputs": [
    {
     "data": {
      "text/plain": [
       "2×2 Array{Int64,2}:\n",
       " 1  2\n",
       " 3  4"
      ]
     },
     "execution_count": 20,
     "metadata": {},
     "output_type": "execute_result"
    }
   ],
   "source": [
    "A = [1 2; 3 4]"
   ]
  },
  {
   "cell_type": "code",
   "execution_count": 21,
   "metadata": {},
   "outputs": [
    {
     "data": {
      "text/plain": [
       "2×2 Array{Int64,2}:\n",
       " 5  6\n",
       " 7  8"
      ]
     },
     "execution_count": 21,
     "metadata": {},
     "output_type": "execute_result"
    }
   ],
   "source": [
    "B = [5 6; 7 8]"
   ]
  },
  {
   "cell_type": "code",
   "execution_count": 22,
   "metadata": {},
   "outputs": [
    {
     "data": {
      "text/plain": [
       "2×2 Array{Int64,2}:\n",
       " 19  22\n",
       " 43  50"
      ]
     },
     "execution_count": 22,
     "metadata": {},
     "output_type": "execute_result"
    }
   ],
   "source": [
    "# 行列の積\n",
    "A * B"
   ]
  },
  {
   "cell_type": "markdown",
   "metadata": {},
   "source": [
    "## 1.2 ニューラルネットワークの推論"
   ]
  },
  {
   "cell_type": "markdown",
   "metadata": {},
   "source": [
    "### 1.2.1 ニューラルネットワークの推論の全体図"
   ]
  },
  {
   "cell_type": "code",
   "execution_count": 23,
   "metadata": {},
   "outputs": [
    {
     "data": {
      "text/plain": [
       "2×4 Array{Float64,2}:\n",
       " -0.491227   -0.199369  1.69443   1.19847\n",
       "  0.0630249  -0.120497  0.536027  2.32198"
      ]
     },
     "execution_count": 23,
     "metadata": {},
     "output_type": "execute_result"
    }
   ],
   "source": [
    "W1 = randn(2, 4) # 重み"
   ]
  },
  {
   "cell_type": "code",
   "execution_count": 24,
   "metadata": {},
   "outputs": [
    {
     "data": {
      "text/plain": [
       "1×4 Array{Float64,2}:\n",
       " 0.0382906  1.46768  0.6899  -0.0665589"
      ]
     },
     "execution_count": 24,
     "metadata": {},
     "output_type": "execute_result"
    }
   ],
   "source": [
    "b1 = randn(1, 4) # バイアス"
   ]
  },
  {
   "cell_type": "code",
   "execution_count": 25,
   "metadata": {},
   "outputs": [
    {
     "data": {
      "text/plain": [
       "10×2 Array{Float64,2}:\n",
       "  2.26337     -0.398618\n",
       "  0.0873142    0.894233\n",
       "  1.36235     -1.05542\n",
       "  0.690757    -2.86034\n",
       "  0.326361     0.571058\n",
       "  0.496623    -0.130031\n",
       " -0.00399563  -1.11094\n",
       "  0.45568      0.775872\n",
       " -0.439674     0.601766\n",
       " -1.11269     -0.772662"
      ]
     },
     "execution_count": 25,
     "metadata": {},
     "output_type": "execute_result"
    }
   ],
   "source": [
    "x = randn(10, 2) # 入力"
   ]
  },
  {
   "cell_type": "code",
   "execution_count": 26,
   "metadata": {},
   "outputs": [
    {
     "data": {
      "text/plain": [
       "10×4 Array{Float64,2}:\n",
       " -1.09866    1.06446   4.31136     1.72044\n",
       "  0.0517584  1.34252   1.31718     2.11448\n",
       " -0.697449   1.32324   2.43258    -0.884487\n",
       " -0.481301   1.67462   0.327124   -5.88037\n",
       " -0.0860358  1.3338    1.549       1.65056\n",
       " -0.213859   1.38433   1.46169     0.226698\n",
       " -0.0297636  1.60234   0.0876357  -2.65093\n",
       " -0.136653   1.28334   1.87791     2.28112\n",
       "  0.292197   1.48282   0.267464    0.803795\n",
       "  0.536179   1.78262  -1.60965    -3.19419"
      ]
     },
     "execution_count": 26,
     "metadata": {},
     "output_type": "execute_result"
    }
   ],
   "source": [
    "h = x * W1 .+ b1"
   ]
  },
  {
   "cell_type": "code",
   "execution_count": 27,
   "metadata": {},
   "outputs": [
    {
     "data": {
      "text/plain": [
       "sigmoid (generic function with 1 method)"
      ]
     },
     "execution_count": 27,
     "metadata": {},
     "output_type": "execute_result"
    }
   ],
   "source": [
    "function sigmoid(x)\n",
    "    return 1 ./ (1 .+ exp.(-x))\n",
    "end"
   ]
  },
  {
   "cell_type": "code",
   "execution_count": 28,
   "metadata": {},
   "outputs": [
    {
     "name": "stdout",
     "output_type": "stream",
     "text": [
      "x = randn(10, 2) = [1.053844734930838 0.4453484901852672; -0.39152061670929456 0.4105980763245145; -0.4153642357599854 0.5845046006804749; -0.8055300461987718 -0.9051660495123371; 0.5267204844972891 -1.6370288838641274; -0.17105681900485897 0.45276647769549766; 1.5825987260069583 -0.09249173707924967; 0.07271905947592477 -0.4993412152779143; 0.8715515616106668 1.2137189829879969; 0.8862660746135586 -0.6726753646940203]\n",
      "W1 = randn(2, 4) = [0.4519431847970331 0.6635928789807288 -0.436593477744687 -0.44905323223031585; -0.49144880987319994 -0.19618994759709665 -1.6407837888030277 0.239087682209589]\n",
      "b1 = randn(1, 4) = [-0.4826318274502022 -1.1143208262414601 -0.8055287708373815 0.5087480078241133]\n",
      "W2 = randn(4, 3) = [-2.7529250045736458 1.002247707672258 0.43259398297083046; -0.3013608658576066 0.5815037366152909 0.6604910507563568; 0.15819751495905587 0.6525740747088864 0.47125001742820155; -0.4324496010771909 -1.6355702660149751 -0.44933768470834146]\n",
      "b2 = randn(1, 3) = [0.7996455187265166 -1.1007227625772822 0.5578824762015301]\n"
     ]
    },
    {
     "data": {
      "text/plain": [
       "1×3 Array{Float64,2}:\n",
       " 0.799646  -1.10072  0.557882"
      ]
     },
     "execution_count": 28,
     "metadata": {},
     "output_type": "execute_result"
    }
   ],
   "source": [
    "@show x = randn(10,2)\n",
    "@show W1 = randn(2,4)\n",
    "@show b1 = randn(1,4)\n",
    "@show W2 = randn(4,3)\n",
    "@show b2 = randn(1,3)"
   ]
  },
  {
   "cell_type": "code",
   "execution_count": 29,
   "metadata": {},
   "outputs": [
    {
     "name": "stdout",
     "output_type": "stream",
     "text": [
      "h = x * W1 .+ b1 = [-0.22521986714435016 -0.502369861541916 -1.9963510917276546 0.14199296162845554; -0.8613648378254073 -1.4546863345414665 -1.3082960905264978 0.7827305486303728; -0.9576069533801851 -1.5046275022528233 -1.5832291278934758 0.8350165106625458; -0.4018428642085123 -1.4712803488834862 1.0313421736751 0.6540598259355926; 0.5599318025144173 -0.44362425257554294 1.650518955483155 -0.119170969774537; -0.7824513376264409 -1.3166611447669816 -1.4737383760523268 0.6938125130276975; 0.2780678351478119 -0.04597363232852647 -1.3447221097012056 -0.2240367004547078; -0.20436629814623958 -0.9680992493486158 -0.01796646680309366 0.3567069453291848; -0.6852207886910114 -0.7740848799621043 -3.177492929603998 0.4075602205238439; 0.2484955922981114 -0.3942288256965216 -0.08875192504293428 -0.050061031421362756]\n",
      "a = sigmoid(h) = [0.4439318331834203 0.37698390437849455 0.11958656663050009 0.5354387174507602; 0.29705427081405505 0.18928138214903084 0.21277210951522504 0.6862683110983274; 0.27735757841093533 0.1817363622688677 0.17033864480406188 0.6974145986106872; 0.40086965259442986 0.18674808524406789 0.7371760214414181 0.657924751114426; 0.6364367605524884 0.3908777220609867 0.8389611764044845 0.4702424665699655; 0.3137918073063871 0.21137432833503703 0.1863750641063547 0.6668145019274472; 0.5690724644700628 0.48850861583830596 0.20673458185265736 0.44422392474918326; 0.4490855083563807 0.275259524201072 0.49550850411754366 0.5882430452975995; 0.33509707453166204 0.3155961278592252 0.04002154414670159 0.6005027214700727; 0.561806180306529 0.4026997128483151 0.4778265716597409 0.48748735520427167]\n",
      "s = a * W2 .+ b2 = [-0.7487056831076553 -1.2342841038356858 0.8146815892133474; -0.3382810507165279 -1.6765234512582563 0.6033076716753656; -0.29331683622520544 -1.7465733887234096 0.5647983649401502; -0.5280970176206501 -1.1853775629223104 0.9064055434929323; -1.1408469958164469 -0.4571889050275971 1.2754352345414057; -0.3867793378037587 -1.6323091185588536 0.6214421439550201; -1.073585239516938 -0.8379514183934322 1.0245324946464633; -0.6956029112511231 -1.129320229910362 0.9031492405075651; -0.4713157725808066 -1.5373995339263562 0.6603235233096483; -1.0035454329782008 -0.788985008811969 1.073025346586657]\n"
     ]
    },
    {
     "data": {
      "text/plain": [
       "10×3 Array{Float64,2}:\n",
       " -0.748706  -1.23428   0.814682\n",
       " -0.338281  -1.67652   0.603308\n",
       " -0.293317  -1.74657   0.564798\n",
       " -0.528097  -1.18538   0.906406\n",
       " -1.14085   -0.457189  1.27544\n",
       " -0.386779  -1.63231   0.621442\n",
       " -1.07359   -0.837951  1.02453\n",
       " -0.695603  -1.12932   0.903149\n",
       " -0.471316  -1.5374    0.660324\n",
       " -1.00355   -0.788985  1.07303"
      ]
     },
     "execution_count": 29,
     "metadata": {},
     "output_type": "execute_result"
    }
   ],
   "source": [
    "@show h = x * W1 .+ b1\n",
    "@show a = sigmoid(h)\n",
    "@show s = a * W2 .+ b2"
   ]
  }
 ],
 "metadata": {
  "kernelspec": {
   "display_name": "Julia 1.4.2",
   "language": "julia",
   "name": "julia-1.4"
  },
  "language_info": {
   "file_extension": ".jl",
   "mimetype": "application/julia",
   "name": "julia",
   "version": "1.4.2"
  }
 },
 "nbformat": 4,
 "nbformat_minor": 4
}
