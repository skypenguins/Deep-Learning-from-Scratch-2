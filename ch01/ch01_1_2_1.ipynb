{
 "cells": [
  {
   "cell_type": "markdown",
   "metadata": {},
   "source": [
    "# １章 ニューラルネットワークの復習"
   ]
  },
  {
   "cell_type": "markdown",
   "metadata": {},
   "source": [
    "## 1.1 数学とPython(Julia)の復習"
   ]
  },
  {
   "cell_type": "markdown",
   "metadata": {},
   "source": [
    "### 1.1.1 ベクトルと行列"
   ]
  },
  {
   "cell_type": "code",
   "execution_count": 1,
   "metadata": {},
   "outputs": [],
   "source": [
    "using LinearAlgebra"
   ]
  },
  {
   "cell_type": "code",
   "execution_count": 2,
   "metadata": {},
   "outputs": [
    {
     "data": {
      "text/plain": [
       "3-element Array{Int64,1}:\n",
       " 1\n",
       " 2\n",
       " 3"
      ]
     },
     "execution_count": 2,
     "metadata": {},
     "output_type": "execute_result"
    }
   ],
   "source": [
    "# Juliaは列指向である．この記法はMATLAB由来．\n",
    "x = [1; 2; 3]"
   ]
  },
  {
   "cell_type": "code",
   "execution_count": 3,
   "metadata": {},
   "outputs": [
    {
     "data": {
      "text/plain": [
       "(3,)"
      ]
     },
     "execution_count": 3,
     "metadata": {},
     "output_type": "execute_result"
    }
   ],
   "source": [
    "# x.shape\n",
    "size(x)"
   ]
  },
  {
   "cell_type": "code",
   "execution_count": 4,
   "metadata": {},
   "outputs": [
    {
     "data": {
      "text/plain": [
       "1"
      ]
     },
     "execution_count": 4,
     "metadata": {},
     "output_type": "execute_result"
    }
   ],
   "source": [
    "# x.ndim\n",
    "ndims(x)"
   ]
  },
  {
   "cell_type": "code",
   "execution_count": 5,
   "metadata": {},
   "outputs": [
    {
     "data": {
      "text/plain": [
       "2×3 Array{Int64,2}:\n",
       " 1  2  3\n",
       " 4  5  6"
      ]
     },
     "execution_count": 5,
     "metadata": {},
     "output_type": "execute_result"
    }
   ],
   "source": [
    "W = [1 2 3; 4 5 6]"
   ]
  },
  {
   "cell_type": "code",
   "execution_count": 6,
   "metadata": {},
   "outputs": [
    {
     "data": {
      "text/plain": [
       "(2, 3)"
      ]
     },
     "execution_count": 6,
     "metadata": {},
     "output_type": "execute_result"
    }
   ],
   "source": [
    "# W.shape\n",
    "size(W)"
   ]
  },
  {
   "cell_type": "code",
   "execution_count": 7,
   "metadata": {},
   "outputs": [
    {
     "data": {
      "text/plain": [
       "2"
      ]
     },
     "execution_count": 7,
     "metadata": {},
     "output_type": "execute_result"
    }
   ],
   "source": [
    "# W.ndim\n",
    "ndims(W)"
   ]
  },
  {
   "cell_type": "markdown",
   "metadata": {},
   "source": [
    "### 1.1.2 行列の要素ごとの計算"
   ]
  },
  {
   "cell_type": "code",
   "execution_count": 8,
   "metadata": {},
   "outputs": [
    {
     "data": {
      "text/plain": [
       "2×3 Array{Int64,2}:\n",
       " 1  2  3\n",
       " 4  5  6"
      ]
     },
     "execution_count": 8,
     "metadata": {},
     "output_type": "execute_result"
    }
   ],
   "source": [
    "W = [1 2 3; 4 5 6]"
   ]
  },
  {
   "cell_type": "code",
   "execution_count": 9,
   "metadata": {},
   "outputs": [
    {
     "data": {
      "text/plain": [
       "2×3 Array{Int64,2}:\n",
       " 0  1  2\n",
       " 3  4  5"
      ]
     },
     "execution_count": 9,
     "metadata": {},
     "output_type": "execute_result"
    }
   ],
   "source": [
    "X = [0 1 2; 3 4 5]"
   ]
  },
  {
   "cell_type": "code",
   "execution_count": 10,
   "metadata": {},
   "outputs": [
    {
     "data": {
      "text/plain": [
       "2×3 Array{Int64,2}:\n",
       " 1  3   5\n",
       " 7  9  11"
      ]
     },
     "execution_count": 10,
     "metadata": {},
     "output_type": "execute_result"
    }
   ],
   "source": [
    "# element-wiseな計算は演算子にdot(.)を付ける．\n",
    "W .+ X"
   ]
  },
  {
   "cell_type": "code",
   "execution_count": 11,
   "metadata": {},
   "outputs": [
    {
     "data": {
      "text/plain": [
       "2×3 Array{Int64,2}:\n",
       "  0   2   6\n",
       " 12  20  30"
      ]
     },
     "execution_count": 11,
     "metadata": {},
     "output_type": "execute_result"
    }
   ],
   "source": [
    "# アダマール積\n",
    "W .* X"
   ]
  },
  {
   "cell_type": "markdown",
   "metadata": {},
   "source": [
    "### 1.1.3 ブロードキャスト"
   ]
  },
  {
   "cell_type": "code",
   "execution_count": 12,
   "metadata": {},
   "outputs": [
    {
     "data": {
      "text/plain": [
       "2×2 Array{Int64,2}:\n",
       " 1  2\n",
       " 3  4"
      ]
     },
     "execution_count": 12,
     "metadata": {},
     "output_type": "execute_result"
    }
   ],
   "source": [
    "A = [1 2; 3 4]"
   ]
  },
  {
   "cell_type": "code",
   "execution_count": 13,
   "metadata": {},
   "outputs": [
    {
     "data": {
      "text/plain": [
       "2×2 Array{Int64,2}:\n",
       " 10  20\n",
       " 30  40"
      ]
     },
     "execution_count": 13,
     "metadata": {},
     "output_type": "execute_result"
    }
   ],
   "source": [
    "A .* 10"
   ]
  },
  {
   "cell_type": "code",
   "execution_count": 14,
   "metadata": {},
   "outputs": [
    {
     "data": {
      "text/plain": [
       "2×2 Array{Int64,2}:\n",
       " 1  2\n",
       " 3  4"
      ]
     },
     "execution_count": 14,
     "metadata": {},
     "output_type": "execute_result"
    }
   ],
   "source": [
    "A = [1 2; 3 4]"
   ]
  },
  {
   "cell_type": "code",
   "execution_count": 15,
   "metadata": {},
   "outputs": [
    {
     "data": {
      "text/plain": [
       "1×2 Array{Int64,2}:\n",
       " 10  20"
      ]
     },
     "execution_count": 15,
     "metadata": {},
     "output_type": "execute_result"
    }
   ],
   "source": [
    "b = [10 20]"
   ]
  },
  {
   "cell_type": "code",
   "execution_count": 16,
   "metadata": {},
   "outputs": [
    {
     "data": {
      "text/plain": [
       "2×2 Array{Int64,2}:\n",
       " 10  40\n",
       " 30  80"
      ]
     },
     "execution_count": 16,
     "metadata": {},
     "output_type": "execute_result"
    }
   ],
   "source": [
    "A .* b"
   ]
  },
  {
   "cell_type": "markdown",
   "metadata": {},
   "source": [
    "### 1.1.4 ベクトルの内積と行列の積"
   ]
  },
  {
   "cell_type": "code",
   "execution_count": 17,
   "metadata": {},
   "outputs": [
    {
     "data": {
      "text/plain": [
       "1×3 Array{Int64,2}:\n",
       " 1  2  3"
      ]
     },
     "execution_count": 17,
     "metadata": {},
     "output_type": "execute_result"
    }
   ],
   "source": [
    "a = [1 2 3]"
   ]
  },
  {
   "cell_type": "code",
   "execution_count": 18,
   "metadata": {},
   "outputs": [
    {
     "data": {
      "text/plain": [
       "1×3 Array{Int64,2}:\n",
       " 4  5  6"
      ]
     },
     "execution_count": 18,
     "metadata": {},
     "output_type": "execute_result"
    }
   ],
   "source": [
    "b = [4 5 6]"
   ]
  },
  {
   "cell_type": "code",
   "execution_count": 19,
   "metadata": {},
   "outputs": [
    {
     "data": {
      "text/plain": [
       "32"
      ]
     },
     "execution_count": 19,
     "metadata": {},
     "output_type": "execute_result"
    }
   ],
   "source": [
    "# ベクトルの内積\n",
    "dot(a, b)"
   ]
  },
  {
   "cell_type": "code",
   "execution_count": 20,
   "metadata": {},
   "outputs": [
    {
     "data": {
      "text/plain": [
       "2×2 Array{Int64,2}:\n",
       " 1  2\n",
       " 3  4"
      ]
     },
     "execution_count": 20,
     "metadata": {},
     "output_type": "execute_result"
    }
   ],
   "source": [
    "A = [1 2; 3 4]"
   ]
  },
  {
   "cell_type": "code",
   "execution_count": 21,
   "metadata": {},
   "outputs": [
    {
     "data": {
      "text/plain": [
       "2×2 Array{Int64,2}:\n",
       " 5  6\n",
       " 7  8"
      ]
     },
     "execution_count": 21,
     "metadata": {},
     "output_type": "execute_result"
    }
   ],
   "source": [
    "B = [5 6; 7 8]"
   ]
  },
  {
   "cell_type": "code",
   "execution_count": 22,
   "metadata": {},
   "outputs": [
    {
     "data": {
      "text/plain": [
       "2×2 Array{Int64,2}:\n",
       " 19  22\n",
       " 43  50"
      ]
     },
     "execution_count": 22,
     "metadata": {},
     "output_type": "execute_result"
    }
   ],
   "source": [
    "# 行列の積\n",
    "A * B"
   ]
  },
  {
   "cell_type": "markdown",
   "metadata": {},
   "source": [
    "## 1.2 ニューラルネットワークの推論"
   ]
  },
  {
   "cell_type": "markdown",
   "metadata": {},
   "source": [
    "### 1.2.1 ニューラルネットワークの推論の全体図"
   ]
  },
  {
   "cell_type": "code",
   "execution_count": 23,
   "metadata": {},
   "outputs": [
    {
     "data": {
      "text/plain": [
       "2×4 Array{Float64,2}:\n",
       "  0.338473  -0.518353  -2.21954   0.468647\n",
       " -0.494119   0.429859  -0.828317  0.215346"
      ]
     },
     "execution_count": 23,
     "metadata": {},
     "output_type": "execute_result"
    }
   ],
   "source": [
    "W1 = randn(2, 4) # 重み"
   ]
  },
  {
   "cell_type": "code",
   "execution_count": 24,
   "metadata": {},
   "outputs": [
    {
     "data": {
      "text/plain": [
       "1×4 Array{Float64,2}:\n",
       " 0.958862  0.0715156  -1.08359  -0.79445"
      ]
     },
     "execution_count": 24,
     "metadata": {},
     "output_type": "execute_result"
    }
   ],
   "source": [
    "b1 = randn(1, 4) # バイアス"
   ]
  },
  {
   "cell_type": "code",
   "execution_count": 25,
   "metadata": {},
   "outputs": [
    {
     "data": {
      "text/plain": [
       "10×2 Array{Float64,2}:\n",
       "  0.214773  -1.45882\n",
       "  0.794208  -0.338941\n",
       " -1.05597    0.245168\n",
       " -0.10328    0.66942\n",
       " -0.448869   0.192047\n",
       "  1.87231    0.779335\n",
       "  0.79833   -0.0552418\n",
       "  0.12673   -0.354108\n",
       " -0.124688  -0.341853\n",
       " -0.859452  -2.13883"
      ]
     },
     "execution_count": 25,
     "metadata": {},
     "output_type": "execute_result"
    }
   ],
   "source": [
    "x = randn(10, 2) # 入力"
   ]
  },
  {
   "cell_type": "code",
   "execution_count": 26,
   "metadata": {},
   "outputs": [
    {
     "data": {
      "text/plain": [
       "10×4 Array{Float64,2}:\n",
       " 1.75239   -0.666899   -0.351924  -1.00795\n",
       " 1.39516   -0.485861   -2.56562   -0.495236\n",
       " 0.480302   0.72427     1.05711   -1.23653\n",
       " 0.593131   0.412807   -1.40885   -0.698694\n",
       " 0.712038   0.386741   -0.246382  -0.963454\n",
       " 1.2075    -0.563998   -5.8848     0.250831\n",
       " 1.25637   -0.366047   -2.80976   -0.43221\n",
       " 1.17673   -0.146392   -1.07156   -0.811314\n",
       " 1.08557   -0.0108009  -0.523678  -0.926501\n",
       " 1.7248    -0.402381    2.59563   -1.65782"
      ]
     },
     "execution_count": 26,
     "metadata": {},
     "output_type": "execute_result"
    }
   ],
   "source": [
    "h = x * W1 .+ b1"
   ]
  },
  {
   "cell_type": "code",
   "execution_count": 27,
   "metadata": {},
   "outputs": [
    {
     "data": {
      "text/plain": [
       "sigmoid (generic function with 1 method)"
      ]
     },
     "execution_count": 27,
     "metadata": {},
     "output_type": "execute_result"
    }
   ],
   "source": [
    "function sigmoid(x)\n",
    "    return 1 ./ (1 .+ exp.(-x))\n",
    "end"
   ]
  },
  {
   "cell_type": "code",
   "execution_count": 28,
   "metadata": {},
   "outputs": [
    {
     "name": "stdout",
     "output_type": "stream",
     "text": [
      "x = randn(10, 2) = [-0.32668757809814963 0.6726109949235071; 0.2642346622410669 -0.4879338326512623; -1.282447927215012 -0.6459091228259052; 0.08511594996136931 -0.23518992235654063; 1.934225882024677 -0.5812029365701205; 1.4333972325502553 -0.06513524943879345; 0.8033752462579716 0.5312796712076842; 0.9818250982152747 0.38127489652301877; 0.44074089711867226 0.46483327516097367; 1.6433139080999013 1.3359390464609846]\n",
      "W1 = randn(2, 4) = [-0.01885571980075168 1.121693347366738 1.744568019517224 -1.2585820440826465; 0.462372080566785 -0.36329070426787546 1.045846518911472 0.27755731083077806]\n",
      "b1 = randn(1, 4) = [1.2234138171374793 -0.511353146367271 -0.780912161408405 0.004599725869415651]\n",
      "W2 = randn(4, 3) = [-0.74861738479738 1.3954578731071756 1.0211937653726333; -0.6784333322011549 0.4129087227078741 1.7374218524029328; 0.32689783094624686 1.8716357890447743 0.1748534696910453; 0.2558219939474946 1.3407978236396383 -0.9608406392771434]\n",
      "b2 = randn(1, 3) = [-0.7133101357975062 -0.7166515331477186 0.6082413854300457]\n"
     ]
    },
    {
     "data": {
      "text/plain": [
       "1×3 Array{Float64,2}:\n",
       " -0.71331  -0.716652  0.608241"
      ]
     },
     "execution_count": 28,
     "metadata": {},
     "output_type": "execute_result"
    }
   ],
   "source": [
    "@show x = randn(10,2)\n",
    "@show W1 = randn(2,4)\n",
    "@show b1 = randn(1,4)\n",
    "@show W2 = randn(4,3)\n",
    "@show b2 = randn(1,3)"
   ]
  },
  {
   "cell_type": "code",
   "execution_count": 29,
   "metadata": {},
   "outputs": [
    {
     "name": "stdout",
     "output_type": "stream",
     "text": [
      "h = x * W1 .+ b1 = [1.5405702917073614 -1.1221497514313945 -0.6473929949096406 0.6024509446747769; 0.9928245010027259 -0.03770105788776851 -0.8302407203521598 -0.46339087790547323; 0.9489449509340195 -1.715213674544144 -3.693751609564503 1.4393888603606135; 1.1130636409060986 -0.3304368390111883 -0.8783941587346192 -0.1678043628007817; 0.9182105848612084 1.869400781953487 1.9856273869013554 -2.5910993625681162; 1.1662693597560874 1.1201420241595268 1.6516253358792707 -1.8175270577306168; 1.4539144855383135 0.1967785568831658 1.1762675955860145 -0.859053376891877; 1.3811916653654204 0.45143990890098806 1.3307035289742517 -1.1252820782077977; 1.43002925882953 -0.18584662205718167 0.47413457529948444 -0.4210909794986793; 1.8101288669642417 0.8466068949358584 3.483147929909681 -1.6928460024868557]\n",
      "a = sigmoid(h) = [0.8235476135597294 0.245612744495189 0.34357726020360924 0.6462168433517554; 0.7296454530568768 0.49057585176822877 0.30359417352948015 0.38618172228475245; 0.720902949642445 0.15248870038945433 0.024274577466219294 0.8083599951241539; 0.7526998275188183 0.4181343372953058 0.2935106591561837 0.4581470721966972; 0.7146773597756645 0.8663889277204689 0.8792797676022945 0.06971345164591686; 0.7624700231091771 0.7540150595219186 0.839110598231513 0.13973087108843926; 0.8106001461730215 0.5490365094160632 0.7642760439989082 0.29753716028662974; 0.7991823187398739 0.6109815306013237 0.7909569829169155 0.24503282724076625; 0.8069058745903747 0.45367161234315506 0.6163618868916845 0.3962557178192599; 0.8593774482826279 0.699854877206024 0.9702044546520574 0.15540192967005265]\n",
      "s = a * W2 .+ b2 = [-1.2188329266839402 2.0434877463474503 1.3151402945751371; -1.3943203614711157 1.590110340534347 1.8877133798499064; -1.1417124612789 1.4815825683117403 0.8368995429589053; -1.3473184886027334 1.669988333833777 1.7144845227585406; -1.530848276033113 2.377553286668664 2.930110105936135; -1.4856077353014496 2.4165429332054105 2.709375560818885; -1.3666674352797357 2.470592360216375 2.237679752935021; -1.4048552404134227 2.4597762072914433 2.3887581238740605; -1.322301553349586 2.2815803589537555 1.9475020241858076; -1.4745469467731809 2.79578162556551 2.7221025606431706]\n"
     ]
    },
    {
     "data": {
      "text/plain": [
       "10×3 Array{Float64,2}:\n",
       " -1.21883  2.04349  1.31514\n",
       " -1.39432  1.59011  1.88771\n",
       " -1.14171  1.48158  0.8369\n",
       " -1.34732  1.66999  1.71448\n",
       " -1.53085  2.37755  2.93011\n",
       " -1.48561  2.41654  2.70938\n",
       " -1.36667  2.47059  2.23768\n",
       " -1.40486  2.45978  2.38876\n",
       " -1.3223   2.28158  1.9475\n",
       " -1.47455  2.79578  2.7221"
      ]
     },
     "execution_count": 29,
     "metadata": {},
     "output_type": "execute_result"
    }
   ],
   "source": [
    "@show h = x * W1 .+ b1\n",
    "@show a = sigmoid(h)\n",
    "@show s = a * W2 .+ b2"
   ]
  }
 ],
 "metadata": {
  "kernelspec": {
   "display_name": "Julia 1.4.2",
   "language": "julia",
   "name": "julia-1.4"
  },
  "language_info": {
   "file_extension": ".jl",
   "mimetype": "application/julia",
   "name": "julia",
   "version": "1.4.2"
  }
 },
 "nbformat": 4,
 "nbformat_minor": 4
}
