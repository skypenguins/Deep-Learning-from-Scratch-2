{
 "cells": [
  {
   "cell_type": "markdown",
   "metadata": {},
   "source": [
    "# １章 ニューラルネットワークの復習"
   ]
  },
  {
   "cell_type": "markdown",
   "metadata": {},
   "source": [
    "## 1.1 数学とPython(Julia)の復習"
   ]
  },
  {
   "cell_type": "markdown",
   "metadata": {},
   "source": [
    "### 1.1.1 ベクトルと行列"
   ]
  },
  {
   "cell_type": "code",
   "execution_count": 1,
   "metadata": {},
   "outputs": [],
   "source": [
    "using LinearAlgebra"
   ]
  },
  {
   "cell_type": "code",
   "execution_count": 2,
   "metadata": {},
   "outputs": [
    {
     "data": {
      "text/plain": [
       "3-element Array{Int64,1}:\n",
       " 1\n",
       " 2\n",
       " 3"
      ]
     },
     "execution_count": 2,
     "metadata": {},
     "output_type": "execute_result"
    }
   ],
   "source": [
    "# Juliaは列指向である．この記法はMATLAB由来．\n",
    "x = [1; 2; 3]"
   ]
  },
  {
   "cell_type": "code",
   "execution_count": 3,
   "metadata": {},
   "outputs": [
    {
     "data": {
      "text/plain": [
       "(3,)"
      ]
     },
     "execution_count": 3,
     "metadata": {},
     "output_type": "execute_result"
    }
   ],
   "source": [
    "# x.shape\n",
    "size(x)"
   ]
  },
  {
   "cell_type": "code",
   "execution_count": 4,
   "metadata": {},
   "outputs": [
    {
     "data": {
      "text/plain": [
       "1"
      ]
     },
     "execution_count": 4,
     "metadata": {},
     "output_type": "execute_result"
    }
   ],
   "source": [
    "# x.ndim\n",
    "ndims(x)"
   ]
  },
  {
   "cell_type": "code",
   "execution_count": 5,
   "metadata": {},
   "outputs": [
    {
     "data": {
      "text/plain": [
       "2×3 Array{Int64,2}:\n",
       " 1  2  3\n",
       " 4  5  6"
      ]
     },
     "execution_count": 5,
     "metadata": {},
     "output_type": "execute_result"
    }
   ],
   "source": [
    "W = [1 2 3; 4 5 6]"
   ]
  },
  {
   "cell_type": "code",
   "execution_count": 6,
   "metadata": {},
   "outputs": [
    {
     "data": {
      "text/plain": [
       "(2, 3)"
      ]
     },
     "execution_count": 6,
     "metadata": {},
     "output_type": "execute_result"
    }
   ],
   "source": [
    "# W.shape\n",
    "size(W)"
   ]
  },
  {
   "cell_type": "code",
   "execution_count": 7,
   "metadata": {},
   "outputs": [
    {
     "data": {
      "text/plain": [
       "2"
      ]
     },
     "execution_count": 7,
     "metadata": {},
     "output_type": "execute_result"
    }
   ],
   "source": [
    "# W.ndim\n",
    "ndims(W)"
   ]
  },
  {
   "cell_type": "markdown",
   "metadata": {},
   "source": [
    "### 1.1.2 行列の要素ごとの計算"
   ]
  },
  {
   "cell_type": "code",
   "execution_count": 8,
   "metadata": {},
   "outputs": [
    {
     "data": {
      "text/plain": [
       "2×3 Array{Int64,2}:\n",
       " 1  2  3\n",
       " 4  5  6"
      ]
     },
     "execution_count": 8,
     "metadata": {},
     "output_type": "execute_result"
    }
   ],
   "source": [
    "W = [1 2 3; 4 5 6]"
   ]
  },
  {
   "cell_type": "code",
   "execution_count": 9,
   "metadata": {},
   "outputs": [
    {
     "data": {
      "text/plain": [
       "2×3 Array{Int64,2}:\n",
       " 0  1  2\n",
       " 3  4  5"
      ]
     },
     "execution_count": 9,
     "metadata": {},
     "output_type": "execute_result"
    }
   ],
   "source": [
    "X = [0 1 2; 3 4 5]"
   ]
  },
  {
   "cell_type": "code",
   "execution_count": 10,
   "metadata": {},
   "outputs": [
    {
     "data": {
      "text/plain": [
       "2×3 Array{Int64,2}:\n",
       " 1  3   5\n",
       " 7  9  11"
      ]
     },
     "execution_count": 10,
     "metadata": {},
     "output_type": "execute_result"
    }
   ],
   "source": [
    "# element-wiseな計算は演算子にdot(.)を付ける．\n",
    "W .+ X"
   ]
  },
  {
   "cell_type": "code",
   "execution_count": 11,
   "metadata": {},
   "outputs": [
    {
     "data": {
      "text/plain": [
       "2×3 Array{Int64,2}:\n",
       "  0   2   6\n",
       " 12  20  30"
      ]
     },
     "execution_count": 11,
     "metadata": {},
     "output_type": "execute_result"
    }
   ],
   "source": [
    "# アダマール積\n",
    "W .* X"
   ]
  },
  {
   "cell_type": "markdown",
   "metadata": {},
   "source": [
    "### 1.1.3 ブロードキャスト"
   ]
  },
  {
   "cell_type": "code",
   "execution_count": 12,
   "metadata": {},
   "outputs": [
    {
     "data": {
      "text/plain": [
       "2×2 Array{Int64,2}:\n",
       " 1  2\n",
       " 3  4"
      ]
     },
     "execution_count": 12,
     "metadata": {},
     "output_type": "execute_result"
    }
   ],
   "source": [
    "A = [1 2; 3 4]"
   ]
  },
  {
   "cell_type": "code",
   "execution_count": 13,
   "metadata": {},
   "outputs": [
    {
     "data": {
      "text/plain": [
       "2×2 Array{Int64,2}:\n",
       " 10  20\n",
       " 30  40"
      ]
     },
     "execution_count": 13,
     "metadata": {},
     "output_type": "execute_result"
    }
   ],
   "source": [
    "A .* 10"
   ]
  },
  {
   "cell_type": "code",
   "execution_count": 14,
   "metadata": {},
   "outputs": [
    {
     "data": {
      "text/plain": [
       "2×2 Array{Int64,2}:\n",
       " 1  2\n",
       " 3  4"
      ]
     },
     "execution_count": 14,
     "metadata": {},
     "output_type": "execute_result"
    }
   ],
   "source": [
    "A = [1 2; 3 4]"
   ]
  },
  {
   "cell_type": "code",
   "execution_count": 15,
   "metadata": {},
   "outputs": [
    {
     "data": {
      "text/plain": [
       "1×2 Array{Int64,2}:\n",
       " 10  20"
      ]
     },
     "execution_count": 15,
     "metadata": {},
     "output_type": "execute_result"
    }
   ],
   "source": [
    "b = [10 20]"
   ]
  },
  {
   "cell_type": "code",
   "execution_count": 16,
   "metadata": {},
   "outputs": [
    {
     "data": {
      "text/plain": [
       "2×2 Array{Int64,2}:\n",
       " 10  40\n",
       " 30  80"
      ]
     },
     "execution_count": 16,
     "metadata": {},
     "output_type": "execute_result"
    }
   ],
   "source": [
    "A .* b"
   ]
  },
  {
   "cell_type": "markdown",
   "metadata": {},
   "source": [
    "### 1.1.4 ベクトルの内積と行列の積"
   ]
  },
  {
   "cell_type": "code",
   "execution_count": 17,
   "metadata": {},
   "outputs": [
    {
     "data": {
      "text/plain": [
       "1×3 Array{Int64,2}:\n",
       " 1  2  3"
      ]
     },
     "execution_count": 17,
     "metadata": {},
     "output_type": "execute_result"
    }
   ],
   "source": [
    "a = [1 2 3]"
   ]
  },
  {
   "cell_type": "code",
   "execution_count": 18,
   "metadata": {},
   "outputs": [
    {
     "data": {
      "text/plain": [
       "1×3 Array{Int64,2}:\n",
       " 4  5  6"
      ]
     },
     "execution_count": 18,
     "metadata": {},
     "output_type": "execute_result"
    }
   ],
   "source": [
    "b = [4 5 6]"
   ]
  },
  {
   "cell_type": "code",
   "execution_count": 19,
   "metadata": {},
   "outputs": [
    {
     "data": {
      "text/plain": [
       "32"
      ]
     },
     "execution_count": 19,
     "metadata": {},
     "output_type": "execute_result"
    }
   ],
   "source": [
    "# ベクトルの内積\n",
    "dot(a, b)"
   ]
  },
  {
   "cell_type": "code",
   "execution_count": 20,
   "metadata": {},
   "outputs": [
    {
     "data": {
      "text/plain": [
       "2×2 Array{Int64,2}:\n",
       " 1  2\n",
       " 3  4"
      ]
     },
     "execution_count": 20,
     "metadata": {},
     "output_type": "execute_result"
    }
   ],
   "source": [
    "A = [1 2; 3 4]"
   ]
  },
  {
   "cell_type": "code",
   "execution_count": 21,
   "metadata": {},
   "outputs": [
    {
     "data": {
      "text/plain": [
       "2×2 Array{Int64,2}:\n",
       " 5  6\n",
       " 7  8"
      ]
     },
     "execution_count": 21,
     "metadata": {},
     "output_type": "execute_result"
    }
   ],
   "source": [
    "B = [5 6; 7 8]"
   ]
  },
  {
   "cell_type": "code",
   "execution_count": 22,
   "metadata": {},
   "outputs": [
    {
     "data": {
      "text/plain": [
       "2×2 Array{Int64,2}:\n",
       " 19  22\n",
       " 43  50"
      ]
     },
     "execution_count": 22,
     "metadata": {},
     "output_type": "execute_result"
    }
   ],
   "source": [
    "# 行列の積\n",
    "A * B"
   ]
  },
  {
   "cell_type": "markdown",
   "metadata": {},
   "source": [
    "## 1.2 ニューラルネットワークの推論"
   ]
  },
  {
   "cell_type": "markdown",
   "metadata": {},
   "source": [
    "### 1.2.1 ニューラルネットワークの推論の全体図"
   ]
  },
  {
   "cell_type": "code",
   "execution_count": 23,
   "metadata": {},
   "outputs": [
    {
     "data": {
      "text/plain": [
       "2×4 Array{Float64,2}:\n",
       " -1.82696   0.835905  -1.03348  0.16694\n",
       "  1.2858   -0.747053   2.25197  1.7235"
      ]
     },
     "execution_count": 23,
     "metadata": {},
     "output_type": "execute_result"
    }
   ],
   "source": [
    "W1 = randn(2, 4) # 重み"
   ]
  },
  {
   "cell_type": "code",
   "execution_count": 24,
   "metadata": {},
   "outputs": [
    {
     "data": {
      "text/plain": [
       "1×4 Array{Float64,2}:\n",
       " -0.543186  -0.20131  1.18796  -0.293507"
      ]
     },
     "execution_count": 24,
     "metadata": {},
     "output_type": "execute_result"
    }
   ],
   "source": [
    "b1 = randn(1, 4) # バイアス"
   ]
  },
  {
   "cell_type": "code",
   "execution_count": 25,
   "metadata": {},
   "outputs": [
    {
     "data": {
      "text/plain": [
       "10×2 Array{Float64,2}:\n",
       " -0.904435   1.96889\n",
       "  1.42847   -1.17035\n",
       " -1.05465   -0.888964\n",
       "  0.332756   0.657873\n",
       " -1.17912    1.71902\n",
       "  0.377963  -0.73845\n",
       " -1.13419    1.14344\n",
       "  0.171275  -0.502525\n",
       " -0.885483  -0.644899\n",
       "  0.455694   0.439601"
      ]
     },
     "execution_count": 25,
     "metadata": {},
     "output_type": "execute_result"
    }
   ],
   "source": [
    "x = randn(10, 2) # 入力"
   ]
  },
  {
   "cell_type": "code",
   "execution_count": 26,
   "metadata": {},
   "outputs": [
    {
     "data": {
      "text/plain": [
       "10×4 Array{Float64,2}:\n",
       "  3.64079   -2.4282     6.55657    2.94888\n",
       " -4.65779    1.86707   -2.92395   -2.07214\n",
       "  0.240582  -0.418791   0.275993  -2.0017\n",
       " -0.305223  -0.414624   2.32557    0.895884\n",
       "  3.82134   -2.47114    6.27775    2.47238\n",
       " -2.18321    0.666292  -0.865632  -1.50313\n",
       "  2.99916   -2.00359    4.93511    1.48786\n",
       " -1.50225    0.317273  -0.120726  -1.13101\n",
       "  0.245346  -0.459716   0.650794  -1.55281\n",
       " -0.810481  -0.148799   1.70698    0.540217"
      ]
     },
     "execution_count": 26,
     "metadata": {},
     "output_type": "execute_result"
    }
   ],
   "source": [
    "h = x * W1 .+ b1"
   ]
  },
  {
   "cell_type": "code",
   "execution_count": 27,
   "metadata": {},
   "outputs": [
    {
     "data": {
      "text/plain": [
       "sigmoid (generic function with 1 method)"
      ]
     },
     "execution_count": 27,
     "metadata": {},
     "output_type": "execute_result"
    }
   ],
   "source": [
    "function sigmoid(x)\n",
    "    return 1 ./ (1 .+ exp.(-x))\n",
    "end"
   ]
  },
  {
   "cell_type": "code",
   "execution_count": 28,
   "metadata": {},
   "outputs": [
    {
     "name": "stdout",
     "output_type": "stream",
     "text": [
      "x = randn(10, 2) = [-0.34748250930254365 0.8544204455001534; -2.4014177803703647 0.15443368696734622; 1.158530830677656 -0.5690513853538272; 0.6733594949896429 -0.8683048592856852; 0.6459951862368651 -0.3524042388750111; 0.4253033306808501 -0.3541511668034972; -1.2137063221597013 0.20113063287007135; -1.4411616881371523 -2.6869388089945208; -0.31365814209211984 -0.608278293916186; 0.6079576997150874 -0.5801916542232467]\n",
      "W1 = randn(2, 4) = [1.010397758170317 -0.15477952654260316 -0.939286374560688 1.5260294990021763; 0.8158534810395657 1.3656824315796978 -0.639045346572262 -1.8811694410511866]\n",
      "b1 = randn(1, 4) = [-0.8272023102491625 0.07544042081457429 0.6944361179560348 0.9288808265086524]\n",
      "W2 = randn(4, 3) = [0.2258582911812242 1.0311099130058874 0.5584296657083051; 0.6986801527157427 -0.8002521360051823 0.5213219419569187; -0.750528932052464 0.4571075106115486 -0.3493881366081557; -0.06990944243817039 -0.6380344358821987 -0.4154294589522771]\n",
      "b2 = randn(1, 3) = [-0.3686732910046732 -1.159964396524446 0.0797817638540869]\n"
     ]
    },
    {
     "data": {
      "text/plain": [
       "1×3 Array{Float64,2}:\n",
       " -0.368673  -1.15996  0.0797818"
      ]
     },
     "execution_count": 28,
     "metadata": {},
     "output_type": "execute_result"
    }
   ],
   "source": [
    "@show x = randn(10,2)\n",
    "@show W1 = randn(2,4)\n",
    "@show b1 = randn(1,4)\n",
    "@show W2 = randn(4,3)\n",
    "@show b2 = randn(1,3)"
   ]
  },
  {
   "cell_type": "code",
   "execution_count": 29,
   "metadata": {},
   "outputs": [
    {
     "name": "stdout",
     "output_type": "stream",
     "text": [
      "h = x * W1 .+ b1 = [-0.4812159639191722 1.2960905906883158 0.47480829462899954 -1.2086973649585566; -3.1275941908636335 0.6580381010266716 2.851364989675209 -3.02626947835669; -0.12088790979257091 -0.8810199122865324 -0.030106466037100765 3.7673151261417135; -0.855250928120727 -1.214610534594631 0.6168448988637972 3.5898758461005373; -0.4620004473058939 -0.5058186861057863 0.312863930457369 2.577620621988087; -0.6864122406377196 -0.47404585397218707 0.5212731495211456 2.2441246076548675; -1.8894353302657265 0.5379778824833795 1.705922334090054 -1.3016316244469541; -4.475497229762375 -3.371002381597713 3.7651753975745055 3.7842127550345466; -1.6403877573832355 -0.706726699968782 1.3777683502412366 1.5945037872437424; -0.6862745941627952 -0.8110165332271079 0.4941585110558236 2.9480810202970913]\n",
      "a = sigmoid(h) = [0.3819650341983749 0.7851763006541305 0.6165211820105622 0.22993161836559456; 0.04198326375879971 0.6588195374574551 0.9453891979609699 0.04625311610901177; 0.469814773891076 0.29296647261395603 0.4924739519491927 0.9774081505445698; 0.29833251688638457 0.22888628679962802 0.6495006304137526 0.9731396361613536; 0.3865113695776166 0.37617423347522444 0.577584159699038 0.9294073190633204; 0.33483166284565 0.3836590923620683 0.6274454230280743 0.9041425295223413; 0.13130886612678633 0.6313418964124572 0.8463066439148488 0.21389054530255908; 0.011256410692256394 0.03321410636988833 0.97736085392194 0.9777782801569769; 0.16241230727454647 0.33032252284698327 0.7986323483604542 0.8312488111829714; 0.33486232008570455 0.30767392094197804 0.6210855808163241 0.9501727136991149]\n",
      "s = a * W2 .+ b2 = [-0.21260759900079546 -1.2593433027472196 0.3914864492735392; -0.6116623624288016 -1.241263357180101 0.09716086722165079; -0.4958178772346085 -1.3084872871188007 -0.08323857414157985; -0.6968747766115774 -1.359522503388351 -0.26549575247105206; -0.517018992680571 -1.3914387428268056 -0.09617517232716204; -0.5591178339486848 -1.411804211352524 -0.12805782854514292; -0.5480406326942454 -1.2794196343479083 0.09769497871975014; -1.144818432727901 -1.352034685935189 -0.6442932694992907; -0.7587101585433811 -1.4221452826463952 -0.28167591851809554; -0.6106449398566718 -1.383241278870828 -0.18455368684602397]\n"
     ]
    },
    {
     "data": {
      "text/plain": [
       "10×3 Array{Float64,2}:\n",
       " -0.212608  -1.25934   0.391486\n",
       " -0.611662  -1.24126   0.0971609\n",
       " -0.495818  -1.30849  -0.0832386\n",
       " -0.696875  -1.35952  -0.265496\n",
       " -0.517019  -1.39144  -0.0961752\n",
       " -0.559118  -1.4118   -0.128058\n",
       " -0.548041  -1.27942   0.097695\n",
       " -1.14482   -1.35203  -0.644293\n",
       " -0.75871   -1.42215  -0.281676\n",
       " -0.610645  -1.38324  -0.184554"
      ]
     },
     "execution_count": 29,
     "metadata": {},
     "output_type": "execute_result"
    }
   ],
   "source": [
    "@show h = x * W1 .+ b1\n",
    "@show a = sigmoid(h)\n",
    "@show s = a * W2 .+ b2"
   ]
  }
 ],
 "metadata": {
  "kernelspec": {
   "display_name": "Julia 1.4.2",
   "language": "julia",
   "name": "julia-1.4"
  },
  "language_info": {
   "file_extension": ".jl",
   "mimetype": "application/julia",
   "name": "julia",
   "version": "1.4.2"
  }
 },
 "nbformat": 4,
 "nbformat_minor": 4
}
