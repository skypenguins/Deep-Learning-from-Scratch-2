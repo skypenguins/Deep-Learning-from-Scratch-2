{
 "cells": [
  {
   "cell_type": "markdown",
   "metadata": {},
   "source": [
    "### 1.4.3 学習用のソースコード"
   ]
  },
  {
   "cell_type": "code",
   "execution_count": 1,
   "metadata": {},
   "outputs": [
    {
     "name": "stdout",
     "output_type": "stream",
     "text": [
      "include(\"../common/optimizer.jl\") = Main.Optimizer\n",
      "include(\"../dataset/spiral.jl\") = Main.Spiral\n",
      "include(\"./two_layer_net.jl\") = backward!\n"
     ]
    },
    {
     "data": {
      "text/plain": [
       "backward! (generic function with 2 methods)"
      ]
     },
     "execution_count": 1,
     "metadata": {},
     "output_type": "execute_result"
    }
   ],
   "source": [
    "# 最適化アルゴリズム定義ファイルの読み込み\n",
    "@show include(\"../common/optimizer.jl\")\n",
    "# スパイラル・データセット定義ファイルの読み込み\n",
    "@show include(\"../dataset/spiral.jl\")\n",
    "# モデル定義ファイルの読み込み\n",
    "@show include(\"./two_layer_net.jl\")"
   ]
  },
  {
   "cell_type": "code",
   "execution_count": 2,
   "metadata": {},
   "outputs": [
    {
     "data": {
      "text/plain": [
       "Plots.PyPlotBackend()"
      ]
     },
     "execution_count": 2,
     "metadata": {},
     "output_type": "execute_result"
    }
   ],
   "source": [
    "# モジュールの読み込み\n",
    "using .Optimizer\n",
    "using .Spiral\n",
    "using Random\n",
    "using Plots\n",
    "pyplot()"
   ]
  },
  {
   "cell_type": "code",
   "execution_count": 3,
   "metadata": {},
   "outputs": [
    {
     "data": {
      "text/plain": [
       "1.0"
      ]
     },
     "execution_count": 3,
     "metadata": {},
     "output_type": "execute_result"
    }
   ],
   "source": [
    "# ハイパーパラメータの設定\n",
    "max_epoch = 300\n",
    "batch_size = 10\n",
    "hidden_size = 30\n",
    "learning_rate = 1.0"
   ]
  },
  {
   "cell_type": "code",
   "execution_count": 4,
   "metadata": {},
   "outputs": [
    {
     "name": "stdout",
     "output_type": "stream",
     "text": [
      "seed = 1984\n"
     ]
    },
    {
     "data": {
      "text/plain": [
       "SGD(1.0)"
      ]
     },
     "execution_count": 4,
     "metadata": {},
     "output_type": "execute_result"
    }
   ],
   "source": [
    "x, t = load_data()\n",
    "model = TwoLayerNet(input_size=2, hidden_size=hidden_size, output_size=3)\n",
    "optimizer = SGD(lr=learning_rate)"
   ]
  },
  {
   "cell_type": "code",
   "execution_count": 5,
   "metadata": {},
   "outputs": [
    {
     "data": {
      "text/plain": [
       "Any[]"
      ]
     },
     "execution_count": 5,
     "metadata": {},
     "output_type": "execute_result"
    }
   ],
   "source": [
    "# 学習で使用する変数\n",
    "data_size = size(x ,1) # 300\n",
    "max_iters = data_size ÷ batch_size # 整数除算「÷」は「\\div」で入力 cf. https://docs.julialang.org/en/v1/manual/unicode-input/\n",
    "loss_list = []"
   ]
  },
  {
   "cell_type": "code",
   "execution_count": 6,
   "metadata": {},
   "outputs": [
    {
     "data": {
      "text/plain": [
       "train! (generic function with 1 method)"
      ]
     },
     "execution_count": 6,
     "metadata": {},
     "output_type": "execute_result"
    }
   ],
   "source": [
    "function train!(model::TwoLayerNet, batch_x, batch_t)\n",
    "    # 損失を計算\n",
    "    loss = forward!(model, batch_x, batch_t) # model.forward()\n",
    "    # 勾配を求める\n",
    "    backward!(model) # model.backward()\n",
    "    # パラメータを更新\n",
    "    update!(optimizer, model.params, model.grads)\n",
    "    \n",
    "    push!(loss_list, loss)\n",
    "    return loss\n",
    "end"
   ]
  },
  {
   "cell_type": "code",
   "execution_count": 7,
   "metadata": {},
   "outputs": [
    {
     "data": {
      "text/plain": [
       "train! (generic function with 2 methods)"
      ]
     },
     "execution_count": 7,
     "metadata": {},
     "output_type": "execute_result"
    }
   ],
   "source": [
    "function train!(model::TwoLayerNet, max_epoch, max_iters, train_x, train_t)\n",
    "    total_loss = 0\n",
    "    loss_count = 0\n",
    "    \n",
    "    for epoch = 1:max_epoch\n",
    "        # ミニバッチの生成\n",
    "        indices = rand(1:data_size, batch_size) # 1～data_sizeの範囲の一意な数値を要素に持つ要素数data_sizeのVectorを返す\n",
    "        batch_x = train_x[indices, :]\n",
    "        batch_t = train_t[indices, :]\n",
    "        \n",
    "        for iter = 1:max_iters\n",
    "            loss = train!(model, batch_x, batch_t)\n",
    "            total_loss += loss\n",
    "            loss_count += 1\n",
    "            # 定期的に学習経過を出力\n",
    "            if iter % max_iters == 0\n",
    "                avg_loss = total_loss / loss_count\n",
    "                println(\"| epoch $(epoch) | iter $(iter) / $(max_iters) | loss $(round(avg_loss, digits=2))\")\n",
    "                push!(loss_list, avg_loss)\n",
    "                total_loss, loss_count = 0, 0\n",
    "            end\n",
    "        end\n",
    "    end\n",
    "end"
   ]
  },
  {
   "cell_type": "code",
   "execution_count": 8,
   "metadata": {},
   "outputs": [
    {
     "name": "stdout",
     "output_type": "stream",
     "text": [
      "| epoch 1 | iter 30 / 30 | loss 13.22\n",
      "| epoch 2 | iter 30 / 30 | loss 12.32\n",
      "| epoch 3 | iter 30 / 30 | loss 9.75\n",
      "| epoch 4 | iter 30 / 30 | loss 10.52\n",
      "| epoch 5 | iter 30 / 30 | loss 7.63\n",
      "| epoch 6 | iter 30 / 30 | loss 7.75\n",
      "| epoch 7 | iter 30 / 30 | loss 8.46\n",
      "| epoch 8 | iter 30 / 30 | loss 8.25\n",
      "| epoch 9 | iter 30 / 30 | loss 5.83\n",
      "| epoch 10 | iter 30 / 30 | loss 7.28\n",
      "| epoch 11 | iter 30 / 30 | loss 7.23\n",
      "| epoch 12 | iter 30 / 30 | loss 6.9\n",
      "| epoch 13 | iter 30 / 30 | loss 9.2\n",
      "| epoch 14 | iter 30 / 30 | loss 5.89\n",
      "| epoch 15 | iter 30 / 30 | loss 3.77\n",
      "| epoch 16 | iter 30 / 30 | loss 5.32\n",
      "| epoch 17 | iter 30 / 30 | loss 7.28\n",
      "| epoch 18 | iter 30 / 30 | loss 4.93\n",
      "| epoch 19 | iter 30 / 30 | loss 5.47\n",
      "| epoch 20 | iter 30 / 30 | loss 4.95\n",
      "| epoch 21 | iter 30 / 30 | loss 6.08\n",
      "| epoch 22 | iter 30 / 30 | loss 1.12\n",
      "| epoch 23 | iter 30 / 30 | loss 7.88\n",
      "| epoch 24 | iter 30 / 30 | loss 3.7\n",
      "| epoch 25 | iter 30 / 30 | loss 3.23\n",
      "| epoch 26 | iter 30 / 30 | loss 4.1\n",
      "| epoch 27 | iter 30 / 30 | loss 4.95\n",
      "| epoch 28 | iter 30 / 30 | loss 3.47\n",
      "| epoch 29 | iter 30 / 30 | loss 6.17\n",
      "| epoch 30 | iter 30 / 30 | loss 4.18\n",
      "| epoch 31 | iter 30 / 30 | loss 4.7\n",
      "| epoch 32 | iter 30 / 30 | loss 4.5\n",
      "| epoch 33 | iter 30 / 30 | loss 5.94\n",
      "| epoch 34 | iter 30 / 30 | loss 6.16\n",
      "| epoch 35 | iter 30 / 30 | loss 5.88\n",
      "| epoch 36 | iter 30 / 30 | loss 5.97\n",
      "| epoch 37 | iter 30 / 30 | loss 3.1\n",
      "| epoch 38 | iter 30 / 30 | loss 4.41\n",
      "| epoch 39 | iter 30 / 30 | loss 5.61\n",
      "| epoch 40 | iter 30 / 30 | loss 5.38\n",
      "| epoch 41 | iter 30 / 30 | loss 3.04\n",
      "| epoch 42 | iter 30 / 30 | loss 1.37\n",
      "| epoch 43 | iter 30 / 30 | loss 1.68\n",
      "| epoch 44 | iter 30 / 30 | loss 3.7\n",
      "| epoch 45 | iter 30 / 30 | loss 1.37\n",
      "| epoch 46 | iter 30 / 30 | loss 2.18\n",
      "| epoch 47 | iter 30 / 30 | loss 3.08\n",
      "| epoch 48 | iter 30 / 30 | loss 4.93\n",
      "| epoch 49 | iter 30 / 30 | loss 2.8\n",
      "| epoch 50 | iter 30 / 30 | loss 2.15\n",
      "| epoch 51 | iter 30 / 30 | loss 2.12\n",
      "| epoch 52 | iter 30 / 30 | loss 1.17\n",
      "| epoch 53 | iter 30 / 30 | loss 2.92\n",
      "| epoch 54 | iter 30 / 30 | loss 2.49\n",
      "| epoch 55 | iter 30 / 30 | loss 1.53\n",
      "| epoch 56 | iter 30 / 30 | loss 2.71\n",
      "| epoch 57 | iter 30 / 30 | loss 2.46\n",
      "| epoch 58 | iter 30 / 30 | loss 2.46\n",
      "| epoch 59 | iter 30 / 30 | loss 7.46\n",
      "| epoch 60 | iter 30 / 30 | loss 4.34\n",
      "| epoch 61 | iter 30 / 30 | loss 1.06\n",
      "| epoch 62 | iter 30 / 30 | loss 0.88\n",
      "| epoch 63 | iter 30 / 30 | loss 1.42\n",
      "| epoch 64 | iter 30 / 30 | loss 0.88\n",
      "| epoch 65 | iter 30 / 30 | loss 1.06\n",
      "| epoch 66 | iter 30 / 30 | loss 0.41\n",
      "| epoch 67 | iter 30 / 30 | loss 0.27\n",
      "| epoch 68 | iter 30 / 30 | loss 2.66\n",
      "| epoch 69 | iter 30 / 30 | loss 0.26\n",
      "| epoch 70 | iter 30 / 30 | loss 1.52\n",
      "| epoch 71 | iter 30 / 30 | loss 3.05\n",
      "| epoch 72 | iter 30 / 30 | loss 0.87\n",
      "| epoch 73 | iter 30 / 30 | loss 0.17\n",
      "| epoch 74 | iter 30 / 30 | loss 0.25\n",
      "| epoch 75 | iter 30 / 30 | loss 0.51\n",
      "| epoch 76 | iter 30 / 30 | loss 0.19\n",
      "| epoch 77 | iter 30 / 30 | loss 0.66\n",
      "| epoch 78 | iter 30 / 30 | loss 0.78\n",
      "| epoch 79 | iter 30 / 30 | loss 0.82\n",
      "| epoch 80 | iter 30 / 30 | loss 0.37\n",
      "| epoch 81 | iter 30 / 30 | loss 1.77\n",
      "| epoch 82 | iter 30 / 30 | loss 0.98\n",
      "| epoch 83 | iter 30 / 30 | loss 0.4\n",
      "| epoch 84 | iter 30 / 30 | loss 0.31\n",
      "| epoch 85 | iter 30 / 30 | loss 0.79\n",
      "| epoch 86 | iter 30 / 30 | loss 0.68\n",
      "| epoch 87 | iter 30 / 30 | loss 0.16\n",
      "| epoch 88 | iter 30 / 30 | loss 0.57\n",
      "| epoch 89 | iter 30 / 30 | loss 0.36\n",
      "| epoch 90 | iter 30 / 30 | loss 1.44\n",
      "| epoch 91 | iter 30 / 30 | loss 0.19\n",
      "| epoch 92 | iter 30 / 30 | loss 0.59\n",
      "| epoch 93 | iter 30 / 30 | loss 0.29\n",
      "| epoch 94 | iter 30 / 30 | loss 0.39\n",
      "| epoch 95 | iter 30 / 30 | loss 0.63\n",
      "| epoch 96 | iter 30 / 30 | loss 1.4\n",
      "| epoch 97 | iter 30 / 30 | loss 0.13\n",
      "| epoch 98 | iter 30 / 30 | loss 0.27\n",
      "| epoch 99 | iter 30 / 30 | loss 0.09\n",
      "| epoch 100 | iter 30 / 30 | loss 0.26\n",
      "| epoch 101 | iter 30 / 30 | loss 0.3\n",
      "| epoch 102 | iter 30 / 30 | loss 0.29\n",
      "| epoch 103 | iter 30 / 30 | loss 0.46\n",
      "| epoch 104 | iter 30 / 30 | loss 0.7\n",
      "| epoch 105 | iter 30 / 30 | loss 0.44\n",
      "| epoch 106 | iter 30 / 30 | loss 0.59\n",
      "| epoch 107 | iter 30 / 30 | loss 0.8\n",
      "| epoch 108 | iter 30 / 30 | loss 0.25\n",
      "| epoch 109 | iter 30 / 30 | loss 0.42\n",
      "| epoch 110 | iter 30 / 30 | loss 0.32\n",
      "| epoch 111 | iter 30 / 30 | loss 0.65\n",
      "| epoch 112 | iter 30 / 30 | loss 0.34\n",
      "| epoch 113 | iter 30 / 30 | loss 1.84\n",
      "| epoch 114 | iter 30 / 30 | loss 1.49\n",
      "| epoch 115 | iter 30 / 30 | loss 0.53\n",
      "| epoch 116 | iter 30 / 30 | loss 0.13\n",
      "| epoch 117 | iter 30 / 30 | loss 0.17\n",
      "| epoch 118 | iter 30 / 30 | loss 0.24\n",
      "| epoch 119 | iter 30 / 30 | loss 0.26\n",
      "| epoch 120 | iter 30 / 30 | loss 0.76\n",
      "| epoch 121 | iter 30 / 30 | loss 0.42\n",
      "| epoch 122 | iter 30 / 30 | loss 0.52\n",
      "| epoch 123 | iter 30 / 30 | loss 0.48\n",
      "| epoch 124 | iter 30 / 30 | loss 0.76\n",
      "| epoch 125 | iter 30 / 30 | loss 1.21\n",
      "| epoch 126 | iter 30 / 30 | loss 0.12\n",
      "| epoch 127 | iter 30 / 30 | loss 0.17\n",
      "| epoch 128 | iter 30 / 30 | loss 0.15\n",
      "| epoch 129 | iter 30 / 30 | loss 0.07\n",
      "| epoch 130 | iter 30 / 30 | loss 0.03\n",
      "| epoch 131 | iter 30 / 30 | loss 0.11\n",
      "| epoch 132 | iter 30 / 30 | loss 0.1\n",
      "| epoch 133 | iter 30 / 30 | loss 0.33\n",
      "| epoch 134 | iter 30 / 30 | loss 0.11\n",
      "| epoch 135 | iter 30 / 30 | loss 0.24\n",
      "| epoch 136 | iter 30 / 30 | loss 0.39\n",
      "| epoch 137 | iter 30 / 30 | loss 2.1\n",
      "| epoch 138 | iter 30 / 30 | loss 0.15\n",
      "| epoch 139 | iter 30 / 30 | loss 0.91\n",
      "| epoch 140 | iter 30 / 30 | loss 0.18\n",
      "| epoch 141 | iter 30 / 30 | loss 0.12\n",
      "| epoch 142 | iter 30 / 30 | loss 0.58\n",
      "| epoch 143 | iter 30 / 30 | loss 0.2\n",
      "| epoch 144 | iter 30 / 30 | loss 0.08\n",
      "| epoch 145 | iter 30 / 30 | loss 0.08\n",
      "| epoch 146 | iter 30 / 30 | loss 0.15\n",
      "| epoch 147 | iter 30 / 30 | loss 0.11\n",
      "| epoch 148 | iter 30 / 30 | loss 0.58\n",
      "| epoch 149 | iter 30 / 30 | loss 0.11\n",
      "| epoch 150 | iter 30 / 30 | loss 0.74\n",
      "| epoch 151 | iter 30 / 30 | loss 0.9\n",
      "| epoch 152 | iter 30 / 30 | loss 1.51\n",
      "| epoch 153 | iter 30 / 30 | loss 0.15\n",
      "| epoch 154 | iter 30 / 30 | loss 0.23\n",
      "| epoch 155 | iter 30 / 30 | loss 0.06\n",
      "| epoch 156 | iter 30 / 30 | loss 0.7\n",
      "| epoch 157 | iter 30 / 30 | loss 0.18\n",
      "| epoch 158 | iter 30 / 30 | loss 0.19\n",
      "| epoch 159 | iter 30 / 30 | loss 0.23\n",
      "| epoch 160 | iter 30 / 30 | loss 0.2\n",
      "| epoch 161 | iter 30 / 30 | loss 0.27\n",
      "| epoch 162 | iter 30 / 30 | loss 0.82\n",
      "| epoch 163 | iter 30 / 30 | loss 1.83\n",
      "| epoch 164 | iter 30 / 30 | loss 0.15\n",
      "| epoch 165 | iter 30 / 30 | loss 0.14\n",
      "| epoch 166 | iter 30 / 30 | loss 0.11\n",
      "| epoch 167 | iter 30 / 30 | loss 0.19\n",
      "| epoch 168 | iter 30 / 30 | loss 0.11\n",
      "| epoch 169 | iter 30 / 30 | loss 0.1\n",
      "| epoch 170 | iter 30 / 30 | loss 0.36\n",
      "| epoch 171 | iter 30 / 30 | loss 0.64\n",
      "| epoch 172 | iter 30 / 30 | loss 0.07\n",
      "| epoch 173 | iter 30 / 30 | loss 0.2\n",
      "| epoch 174 | iter 30 / 30 | loss 0.04\n",
      "| epoch 175 | iter 30 / 30 | loss 0.09\n",
      "| epoch 176 | iter 30 / 30 | loss 0.06\n",
      "| epoch 177 | iter 30 / 30 | loss 0.16\n",
      "| epoch 178 | iter 30 / 30 | loss 0.26\n",
      "| epoch 179 | iter 30 / 30 | loss 0.07\n",
      "| epoch 180 | iter 30 / 30 | loss 1.02\n",
      "| epoch 181 | iter 30 / 30 | loss 1.29\n",
      "| epoch 182 | iter 30 / 30 | loss 0.24\n",
      "| epoch 183 | iter 30 / 30 | loss 0.07\n",
      "| epoch 184 | iter 30 / 30 | loss 3.1\n",
      "| epoch 185 | iter 30 / 30 | loss 0.85\n",
      "| epoch 186 | iter 30 / 30 | loss 0.64\n",
      "| epoch 187 | iter 30 / 30 | loss 0.06\n",
      "| epoch 188 | iter 30 / 30 | loss 0.29\n",
      "| epoch 189 | iter 30 / 30 | loss 0.74\n",
      "| epoch 190 | iter 30 / 30 | loss 0.03\n",
      "| epoch 191 | iter 30 / 30 | loss 0.25\n",
      "| epoch 192 | iter 30 / 30 | loss 0.04\n",
      "| epoch 193 | iter 30 / 30 | loss 0.42\n",
      "| epoch 194 | iter 30 / 30 | loss 0.07\n",
      "| epoch 195 | iter 30 / 30 | loss 0.08\n",
      "| epoch 196 | iter 30 / 30 | loss 0.24\n",
      "| epoch 197 | iter 30 / 30 | loss 0.15\n",
      "| epoch 198 | iter 30 / 30 | loss 0.06\n",
      "| epoch 199 | iter 30 / 30 | loss 0.19\n",
      "| epoch 200 | iter 30 / 30 | loss 0.31\n",
      "| epoch 201 | iter 30 / 30 | loss 0.1\n",
      "| epoch 202 | iter 30 / 30 | loss 1.2\n",
      "| epoch 203 | iter 30 / 30 | loss 0.04\n",
      "| epoch 204 | iter 30 / 30 | loss 0.31\n",
      "| epoch 205 | iter 30 / 30 | loss 1.79\n",
      "| epoch 206 | iter 30 / 30 | loss 0.13\n",
      "| epoch 207 | iter 30 / 30 | loss 0.17\n",
      "| epoch 208 | iter 30 / 30 | loss 0.4\n",
      "| epoch 209 | iter 30 / 30 | loss 0.82\n",
      "| epoch 210 | iter 30 / 30 | loss 0.27\n",
      "| epoch 211 | iter 30 / 30 | loss 0.13\n",
      "| epoch 212 | iter 30 / 30 | loss 0.42\n",
      "| epoch 213 | iter 30 / 30 | loss 0.32\n",
      "| epoch 214 | iter 30 / 30 | loss 0.31\n",
      "| epoch 215 | iter 30 / 30 | loss 0.04\n",
      "| epoch 216 | iter 30 / 30 | loss 0.03\n",
      "| epoch 217 | iter 30 / 30 | loss 0.4\n",
      "| epoch 218 | iter 30 / 30 | loss 0.25\n",
      "| epoch 219 | iter 30 / 30 | loss 0.47\n",
      "| epoch 220 | iter 30 / 30 | loss 0.38\n",
      "| epoch 221 | iter 30 / 30 | loss 0.22\n",
      "| epoch 222 | iter 30 / 30 | loss 0.02\n",
      "| epoch 223 | iter 30 / 30 | loss 0.02\n",
      "| epoch 224 | iter 30 / 30 | loss 0.17\n",
      "| epoch 225 | iter 30 / 30 | loss 0.09\n",
      "| epoch 226 | iter 30 / 30 | loss 0.21\n",
      "| epoch 227 | iter 30 / 30 | loss 0.22\n",
      "| epoch 228 | iter 30 / 30 | loss 0.39\n",
      "| epoch 229 | iter 30 / 30 | loss 0.45\n",
      "| epoch 230 | iter 30 / 30 | loss 0.11\n",
      "| epoch 231 | iter 30 / 30 | loss 0.01\n",
      "| epoch 232 | iter 30 / 30 | loss 0.73\n",
      "| epoch 233 | iter 30 / 30 | loss 0.34\n",
      "| epoch 234 | iter 30 / 30 | loss 1.87\n",
      "| epoch 235 | iter 30 / 30 | loss 0.39\n",
      "| epoch 236 | iter 30 / 30 | loss 0.67\n",
      "| epoch 237 | iter 30 / 30 | loss 0.1\n",
      "| epoch 238 | iter 30 / 30 | loss 0.15\n",
      "| epoch 239 | iter 30 / 30 | loss 0.08\n",
      "| epoch 240 | iter 30 / 30 | loss 0.18\n",
      "| epoch 241 | iter 30 / 30 | loss 0.46\n",
      "| epoch 242 | iter 30 / 30 | loss 0.04\n",
      "| epoch 243 | iter 30 / 30 | loss 0.14\n",
      "| epoch 244 | iter 30 / 30 | loss 0.1\n",
      "| epoch 245 | iter 30 / 30 | loss 0.58\n",
      "| epoch 246 | iter 30 / 30 | loss 2.1\n",
      "| epoch 247 | iter 30 / 30 | loss 0.08\n",
      "| epoch 248 | iter 30 / 30 | loss 0.06\n",
      "| epoch 249 | iter 30 / 30 | loss 0.35\n",
      "| epoch 250 | iter 30 / 30 | loss 0.15\n",
      "| epoch 251 | iter 30 / 30 | loss 0.65\n",
      "| epoch 252 | iter 30 / 30 | loss 0.27\n",
      "| epoch 253 | iter 30 / 30 | loss 0.06\n",
      "| epoch 254 | iter 30 / 30 | loss 0.12\n",
      "| epoch 255 | iter 30 / 30 | loss 0.14\n",
      "| epoch 256 | iter 30 / 30 | loss 0.21\n",
      "| epoch 257 | iter 30 / 30 | loss 0.05\n",
      "| epoch 258 | iter 30 / 30 | loss 0.01\n",
      "| epoch 259 | iter 30 / 30 | loss 0.09\n",
      "| epoch 260 | iter 30 / 30 | loss 0.07\n",
      "| epoch 261 | iter 30 / 30 | loss 0.2\n",
      "| epoch 262 | iter 30 / 30 | loss 0.04\n",
      "| epoch 263 | iter 30 / 30 | loss 0.14\n",
      "| epoch 264 | iter 30 / 30 | loss 0.03\n",
      "| epoch 265 | iter 30 / 30 | loss 0.04\n",
      "| epoch 266 | iter 30 / 30 | loss 0.25\n",
      "| epoch 267 | iter 30 / 30 | loss 0.09\n",
      "| epoch 268 | iter 30 / 30 | loss 0.12\n",
      "| epoch 269 | iter 30 / 30 | loss 0.03\n",
      "| epoch 270 | iter 30 / 30 | loss 0.07\n",
      "| epoch 271 | iter 30 / 30 | loss 0.04\n",
      "| epoch 272 | iter 30 / 30 | loss 0.29\n",
      "| epoch 273 | iter 30 / 30 | loss 0.68\n",
      "| epoch 274 | iter 30 / 30 | loss 0.08\n",
      "| epoch 275 | iter 30 / 30 | loss 0.25\n",
      "| epoch 276 | iter 30 / 30 | loss 0.02\n",
      "| epoch 277 | iter 30 / 30 | loss 0.13\n",
      "| epoch 278 | iter 30 / 30 | loss 0.2\n",
      "| epoch 279 | iter 30 / 30 | loss 0.4\n",
      "| epoch 280 | iter 30 / 30 | loss 0.02\n",
      "| epoch 281 | iter 30 / 30 | loss 0.19\n",
      "| epoch 282 | iter 30 / 30 | loss 0.2\n",
      "| epoch 283 | iter 30 / 30 | loss 0.53\n",
      "| epoch 284 | iter 30 / 30 | loss 0.11\n",
      "| epoch 285 | iter 30 / 30 | loss 0.02\n",
      "| epoch 286 | iter 30 / 30 | loss 0.14\n",
      "| epoch 287 | iter 30 / 30 | loss 2.49\n",
      "| epoch 288 | iter 30 / 30 | loss 0.47\n",
      "| epoch 289 | iter 30 / 30 | loss 0.1\n",
      "| epoch 290 | iter 30 / 30 | loss 0.04\n",
      "| epoch 291 | iter 30 / 30 | loss 0.66\n",
      "| epoch 292 | iter 30 / 30 | loss 0.37\n",
      "| epoch 293 | iter 30 / 30 | loss 0.06\n",
      "| epoch 294 | iter 30 / 30 | loss 0.2\n",
      "| epoch 295 | iter 30 / 30 | loss 0.1\n",
      "| epoch 296 | iter 30 / 30 | loss 0.11\n",
      "| epoch 297 | iter 30 / 30 | loss 0.03\n",
      "| epoch 298 | iter 30 / 30 | loss 0.04\n",
      "| epoch 299 | iter 30 / 30 | loss 0.03\n",
      "| epoch 300 | iter 30 / 30 | loss 0.03\n",
      "  3.505439 seconds (10.09 M allocations: 624.687 MiB, 4.53% gc time)\n"
     ]
    }
   ],
   "source": [
    "@time train!(model, max_epoch, max_iters, x, t)"
   ]
  },
  {
   "cell_type": "code",
   "execution_count": 9,
   "metadata": {},
   "outputs": [
    {
     "data": {
      "image/png": "[encoded data removed]"
     },
     "execution_count": 9,
     "metadata": {},
     "output_type": "execute_result"
    }
   ],
   "source": [
    "# 損失履歴を描画\n",
    "plot(loss_list)"
   ]
  },
  {
   "cell_type": "code",
   "execution_count": 10,
   "metadata": {},
   "outputs": [
    {
     "data": {
      "text/plain": [
       "1997×2034 Array{Int64,2}:\n",
       " 1  1  1  1  1  1  1  1  1  1  1  1  1  …  1  1  1  1  1  1  1  1  1  1  1  1\n",
       " 1  1  1  1  1  1  1  1  1  1  1  1  1     1  1  1  1  1  1  1  1  1  1  1  1\n",
       " 1  1  1  1  1  1  1  1  1  1  1  1  1     1  1  1  1  1  1  1  1  1  1  1  1\n",
       " 1  1  1  1  1  1  1  1  1  1  1  1  1     1  1  1  1  1  1  1  1  1  1  1  1\n",
       " 1  1  1  1  1  1  1  1  1  1  1  1  1     1  1  1  1  1  1  1  1  1  1  1  1\n",
       " 1  1  1  1  1  1  1  1  1  1  1  1  1  …  1  1  1  1  1  1  1  1  1  1  1  1\n",
       " 1  1  1  1  1  1  1  1  1  1  1  1  1     1  1  1  1  1  1  1  1  1  1  1  1\n",
       " 1  1  1  1  1  1  1  1  1  1  1  1  1     1  1  1  1  1  1  1  1  1  1  1  1\n",
       " 1  1  1  1  1  1  1  1  1  1  1  1  1     1  1  1  1  1  1  1  1  1  1  1  1\n",
       " 1  1  1  1  1  1  1  1  1  1  1  1  1     1  1  1  1  1  1  1  1  1  1  1  1\n",
       " 1  1  1  1  1  1  1  1  1  1  1  1  1  …  1  1  1  1  1  1  1  1  1  1  1  1\n",
       " 1  1  1  1  1  1  1  1  1  1  1  1  1     1  1  1  1  1  1  1  1  1  1  1  1\n",
       " 1  1  1  1  1  1  1  1  1  1  1  1  1     1  1  1  1  1  1  1  1  1  1  1  1\n",
       " ⋮              ⋮              ⋮        ⋱           ⋮              ⋮        \n",
       " 3  3  3  3  3  3  3  3  3  3  3  3  3  …  2  2  2  2  2  2  2  2  2  2  2  2\n",
       " 3  3  3  3  3  3  3  3  3  3  3  3  3     2  2  2  2  2  2  2  2  2  2  2  2\n",
       " 3  3  3  3  3  3  3  3  3  3  3  3  3     2  2  2  2  2  2  2  2  2  2  2  2\n",
       " 3  3  3  3  3  3  3  3  3  3  3  3  3     2  2  2  2  2  2  2  2  2  2  2  2\n",
       " 3  3  3  3  3  3  3  3  3  3  3  3  3     2  2  2  2  2  2  2  2  2  2  2  2\n",
       " 3  3  3  3  3  3  3  3  3  3  3  3  3  …  2  2  2  2  2  2  2  2  2  2  2  2\n",
       " 3  3  3  3  3  3  3  3  3  3  3  3  3     2  2  2  2  2  2  2  2  2  2  2  2\n",
       " 3  3  3  3  3  3  3  3  3  3  3  3  3     2  2  2  2  2  2  2  2  2  2  2  2\n",
       " 3  3  3  3  3  3  3  3  3  3  3  3  3     2  2  2  2  2  2  2  2  2  2  2  2\n",
       " 3  3  3  3  3  3  3  3  3  3  3  3  3     2  2  2  2  2  2  2  2  2  2  2  2\n",
       " 3  3  3  3  3  3  3  3  3  3  3  3  3  …  2  2  2  2  2  2  2  2  2  2  2  2\n",
       " 3  3  3  3  3  3  3  3  3  3  3  3  3     2  2  2  2  2  2  2  2  2  2  2  2"
      ]
     },
     "execution_count": 10,
     "metadata": {},
     "output_type": "execute_result"
    }
   ],
   "source": [
    "# 決定境界のプロットの準備\n",
    "h = 0.001\n",
    "x_min = minimum(x[:, 1]) .- .1\n",
    "x_max = maximum(x[:, 1]) .+ .1\n",
    "y_min = minimum(x[:, 2]) .- .1\n",
    "y_max = maximum(x[:, 2]) .+ .1\n",
    "_x = collect(x_min:h:x_max)\n",
    "_y = collect(y_min:h:y_max)\n",
    "xx = repeat(_x', outer=(length(_y),1)) # np.meshgrid()\n",
    "yy = repeat(_y,  outer=(1,length(_x))) # np.meshgrid()\n",
    "X = hcat(collect(Iterators.flatten(xx)), collect(Iterators.flatten(yy)))\n",
    "score = predict!(model, X)\n",
    "predict_cls = mapslices(argmax, score, dims=2)[:]\n",
    "Z = reshape(predict_cls, size(xx)...)"
   ]
  },
  {
   "cell_type": "code",
   "execution_count": 11,
   "metadata": {},
   "outputs": [
    {
     "name": "stdout",
     "output_type": "stream",
     "text": [
      "seed = 1984\n"
     ]
    },
    {
     "data": {
      "image/png": "[encoded data removed]"
     },
     "execution_count": 11,
     "metadata": {},
     "output_type": "execute_result"
    }
   ],
   "source": [
    "# データ点のプロット\n",
    "x, t = load_data()\n",
    "N = 100\n",
    "CLS_NUM = 3\n",
    "markers = [:circle, :utriangle, :hexagon]\n",
    "for i in 0:CLS_NUM - 1\n",
    "    # 1つ目のクラスを描画\n",
    "    if i == 0\n",
    "        plot(x[(i * N) + 1:(i + 1) * N, 1], x[(i * N) + 1:(i + 1) * N, 2], st=:scatter, marker = markers[i + 1])\n",
    "    # 最後のクラスを描画する際に表示する\n",
    "    elseif i == CLS_NUM - 1　\n",
    "        plot!(x[(i * N) + 1:(i + 1) * N, 1], x[(i * N) + 1:(i + 1) * N, 2], st=:scatter, marker = markers[i + 1])\n",
    "    # 表示はせず，上書きとして描画する\n",
    "    else\n",
    "        plot!(x[(i * N) + 1:(i + 1) * N, 1], x[(i * N) + 1:(i + 1) * N, 2], st=:scatter, marker = markers[i + 1])\n",
    "    end\n",
    "end\n",
    "# 決定境界のプロット\n",
    "plot!(xx, yy, Z, st=:contour)"
   ]
  }
 ],
 "metadata": {
  "kernelspec": {
   "display_name": "Julia 1.5.2",
   "language": "julia",
   "name": "julia-1.5"
  },
  "language_info": {
   "file_extension": ".jl",
   "mimetype": "application/julia",
   "name": "julia",
   "version": "1.5.2"
  }
 },
 "nbformat": 4,
 "nbformat_minor": 4
}
