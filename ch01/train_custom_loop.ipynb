{
 "cells": [
  {
   "cell_type": "markdown",
   "metadata": {},
   "source": [
    "### 1.4.3 学習用のソースコード"
   ]
  },
  {
   "cell_type": "code",
   "execution_count": 1,
   "metadata": {},
   "outputs": [
    {
     "name": "stdout",
     "output_type": "stream",
     "text": [
      "include(\"../common/optimizer.jl\") = Main.Optimizer\n",
      "include(\"../dataset/spiral.jl\") = Main.Spiral\n",
      "include(\"./two_layer_net.jl\") = Main.Two_layer_net\n"
     ]
    },
    {
     "data": {
      "text/plain": [
       "Main.Two_layer_net"
      ]
     },
     "execution_count": 1,
     "metadata": {},
     "output_type": "execute_result"
    }
   ],
   "source": [
    "# モデル定義ファイルの読み込み\n",
    "@show include(\"../common/optimizer.jl\")\n",
    "@show include(\"../dataset/spiral.jl\")\n",
    "@show include(\"./two_layer_net.jl\")"
   ]
  },
  {
   "cell_type": "code",
   "execution_count": 2,
   "metadata": {},
   "outputs": [],
   "source": [
    "# モジュールの読み込み\n",
    "using .Optimizer\n",
    "using .Spiral\n",
    "using .Two_layer_net\n",
    "using Random\n",
    "#using Plots"
   ]
  },
  {
   "cell_type": "code",
   "execution_count": 3,
   "metadata": {},
   "outputs": [
    {
     "data": {
      "text/plain": [
       "1.0"
      ]
     },
     "execution_count": 3,
     "metadata": {},
     "output_type": "execute_result"
    }
   ],
   "source": [
    "# ハイパーパラメータの設定\n",
    "max_epoch = 300\n",
    "batch_size = 30\n",
    "hidden_size = 10\n",
    "learning_rate = 1.0"
   ]
  },
  {
   "cell_type": "code",
   "execution_count": 4,
   "metadata": {},
   "outputs": [
    {
     "name": "stdout",
     "output_type": "stream",
     "text": [
      "seed = 1984\n",
      "typeof(x) = Array{Float64,2}\n",
      "typeof(t) = Array{Integer,2}\n"
     ]
    },
    {
     "data": {
      "text/plain": [
       "SGD(1.0)"
      ]
     },
     "execution_count": 4,
     "metadata": {},
     "output_type": "execute_result"
    }
   ],
   "source": [
    "x, t = load_data()\n",
    "@show typeof(x)\n",
    "@show typeof(t)\n",
    "model = TwoLayerNet(input_size=2, hidden_size=hidden_size, output_size=3)\n",
    "optimizer = SGD(lr=learning_rate)"
   ]
  },
  {
   "cell_type": "code",
   "execution_count": 5,
   "metadata": {},
   "outputs": [
    {
     "data": {
      "text/plain": [
       "Any[]"
      ]
     },
     "execution_count": 5,
     "metadata": {},
     "output_type": "execute_result"
    }
   ],
   "source": [
    "# 学習で使用する変数\n",
    "data_size = size(x, 1)\n",
    "max_iters = data_size ÷ batch_size # 整数除算「÷」は「\\div」で入力 cf. https://docs.julialang.org/en/v1/manual/unicode-input/\n",
    "loss_list = []"
   ]
  },
  {
   "cell_type": "code",
   "execution_count": 6,
   "metadata": {},
   "outputs": [
    {
     "data": {
      "text/plain": [
       "train! (generic function with 1 method)"
      ]
     },
     "execution_count": 6,
     "metadata": {},
     "output_type": "execute_result"
    }
   ],
   "source": [
    "function train!(model::TwoLayerNet, batch_x, batch_t)\n",
    "    # 損失を計算\n",
    "    loss = forward(model, batch_x, batch_t) # model.forward()\n",
    "    # 勾配を求める\n",
    "    backward(model) # model.backward()\n",
    "    # パラメータを更新\n",
    "    update(optimizer, model.params, model.grads)\n",
    "    \n",
    "    push!(loss_list, loss)\n",
    "    return loss\n",
    "end"
   ]
  },
  {
   "cell_type": "code",
   "execution_count": 7,
   "metadata": {},
   "outputs": [
    {
     "data": {
      "text/plain": [
       "train! (generic function with 2 methods)"
      ]
     },
     "execution_count": 7,
     "metadata": {},
     "output_type": "execute_result"
    }
   ],
   "source": [
    "function train!(model::TwoLayerNet, max_epoch, max_iters, train_x, train_t)\n",
    "    total_loss = 0\n",
    "    loss_count = 0\n",
    "    \n",
    "    for epoch = 1:max_epoch\n",
    "        # ミニバッチの生成\n",
    "        indices = rand(1:data_size, batch_size) # 1～data_sizeの範囲の一意な数値を要素に持つ要素数data_sizeのVectorを返す\n",
    "        batch_x = train_x[indices, :]\n",
    "        batch_t = train_t[indices, :]\n",
    "        \n",
    "        for iter = 1:max_iters\n",
    "            loss = train!(model, batch_x, batch_t)\n",
    "            total_loss += loss\n",
    "            loss_count += 1\n",
    "            # 定期的に学習経過を出力\n",
    "            if iter % max_iters == 0\n",
    "                avg_loss = total_loss / loss_count\n",
    "                println(\"| epoch $(epoch) | iter $(iter) / $(max_iters) | loss $(round(avg_loss, digits=2))\")\n",
    "                push!(loss_list, avg_loss)\n",
    "                total_loss, loss_count = 0, 0\n",
    "            end\n",
    "        end\n",
    "    end\n",
    "end"
   ]
  },
  {
   "cell_type": "code",
   "execution_count": 8,
   "metadata": {},
   "outputs": [
    {
     "name": "stdout",
     "output_type": "stream",
     "text": [
      "| epoch 1 | iter 10 / 10 | loss 3.54\n",
      "| epoch 2 | iter 10 / 10 | loss 3.45\n",
      "| epoch 3 | iter 10 / 10 | loss 3.48\n",
      "| epoch 4 | iter 10 / 10 | loss 3.49\n",
      "| epoch 5 | iter 10 / 10 | loss 3.5\n",
      "| epoch 6 | iter 10 / 10 | loss 3.42\n",
      "| epoch 7 | iter 10 / 10 | loss 3.47\n",
      "| epoch 8 | iter 10 / 10 | loss 3.44\n",
      "| epoch 9 | iter 10 / 10 | loss 3.49\n",
      "| epoch 10 | iter 10 / 10 | loss 4.23\n",
      "| epoch 11 | iter 10 / 10 | loss 5.17\n",
      "| epoch 12 | iter 10 / 10 | loss 3.82\n",
      "| epoch 13 | iter 10 / 10 | loss 3.77\n",
      "| epoch 14 | iter 10 / 10 | loss 4.05\n",
      "| epoch 15 | iter 10 / 10 | loss 3.6\n",
      "| epoch 16 | iter 10 / 10 | loss 3.74\n",
      "| epoch 17 | iter 10 / 10 | loss 3.69\n",
      "| epoch 18 | iter 10 / 10 | loss 3.48\n",
      "| epoch 19 | iter 10 / 10 | loss 3.43\n",
      "| epoch 20 | iter 10 / 10 | loss 3.44\n",
      "| epoch 21 | iter 10 / 10 | loss 3.42\n",
      "| epoch 22 | iter 10 / 10 | loss 3.46\n",
      "| epoch 23 | iter 10 / 10 | loss 3.44\n",
      "| epoch 24 | iter 10 / 10 | loss 3.44\n",
      "| epoch 25 | iter 10 / 10 | loss 4.37\n",
      "| epoch 26 | iter 10 / 10 | loss 4.01\n",
      "| epoch 27 | iter 10 / 10 | loss 3.51\n",
      "| epoch 28 | iter 10 / 10 | loss 3.51\n",
      "| epoch 29 | iter 10 / 10 | loss 3.47\n",
      "| epoch 30 | iter 10 / 10 | loss 3.63\n",
      "| epoch 31 | iter 10 / 10 | loss 4.38\n",
      "| epoch 32 | iter 10 / 10 | loss 4.19\n",
      "| epoch 33 | iter 10 / 10 | loss 4.11\n",
      "| epoch 34 | iter 10 / 10 | loss 3.45\n",
      "| epoch 35 | iter 10 / 10 | loss 3.44\n",
      "| epoch 36 | iter 10 / 10 | loss 3.46\n",
      "| epoch 37 | iter 10 / 10 | loss 3.41\n",
      "| epoch 38 | iter 10 / 10 | loss 3.48\n",
      "| epoch 39 | iter 10 / 10 | loss 3.56\n",
      "| epoch 40 | iter 10 / 10 | loss 3.47\n",
      "| epoch 41 | iter 10 / 10 | loss 4.06\n",
      "| epoch 42 | iter 10 / 10 | loss 3.85\n",
      "| epoch 43 | iter 10 / 10 | loss 3.49\n",
      "| epoch 44 | iter 10 / 10 | loss 3.58\n",
      "| epoch 45 | iter 10 / 10 | loss 3.56\n",
      "| epoch 46 | iter 10 / 10 | loss 3.83\n",
      "| epoch 47 | iter 10 / 10 | loss 3.68\n",
      "| epoch 48 | iter 10 / 10 | loss 3.42\n",
      "| epoch 49 | iter 10 / 10 | loss 3.89\n",
      "| epoch 50 | iter 10 / 10 | loss 4.74\n",
      "| epoch 51 | iter 10 / 10 | loss 4.15\n",
      "| epoch 52 | iter 10 / 10 | loss 3.64\n",
      "| epoch 53 | iter 10 / 10 | loss 3.64\n",
      "| epoch 54 | iter 10 / 10 | loss 4.03\n",
      "| epoch 55 | iter 10 / 10 | loss 3.68\n",
      "| epoch 56 | iter 10 / 10 | loss 4.03\n",
      "| epoch 57 | iter 10 / 10 | loss 4.79\n",
      "| epoch 58 | iter 10 / 10 | loss 3.83\n",
      "| epoch 59 | iter 10 / 10 | loss 3.45\n",
      "| epoch 60 | iter 10 / 10 | loss 3.53\n",
      "| epoch 61 | iter 10 / 10 | loss 3.46\n",
      "| epoch 62 | iter 10 / 10 | loss 4.47\n",
      "| epoch 63 | iter 10 / 10 | loss 3.75\n",
      "| epoch 64 | iter 10 / 10 | loss 3.61\n",
      "| epoch 65 | iter 10 / 10 | loss 3.63\n",
      "| epoch 66 | iter 10 / 10 | loss 3.64\n",
      "| epoch 67 | iter 10 / 10 | loss 4.41\n",
      "| epoch 68 | iter 10 / 10 | loss 4.03\n",
      "| epoch 69 | iter 10 / 10 | loss 3.9\n",
      "| epoch 70 | iter 10 / 10 | loss 3.66\n",
      "| epoch 71 | iter 10 / 10 | loss 3.53\n",
      "| epoch 72 | iter 10 / 10 | loss 3.61\n",
      "| epoch 73 | iter 10 / 10 | loss 3.57\n",
      "| epoch 74 | iter 10 / 10 | loss 3.41\n",
      "| epoch 75 | iter 10 / 10 | loss 3.42\n",
      "| epoch 76 | iter 10 / 10 | loss 3.41\n",
      "| epoch 77 | iter 10 / 10 | loss 3.47\n",
      "| epoch 78 | iter 10 / 10 | loss 3.47\n",
      "| epoch 79 | iter 10 / 10 | loss 3.45\n",
      "| epoch 80 | iter 10 / 10 | loss 3.8\n",
      "| epoch 81 | iter 10 / 10 | loss 4.07\n",
      "| epoch 82 | iter 10 / 10 | loss 3.55\n",
      "| epoch 83 | iter 10 / 10 | loss 3.41\n",
      "| epoch 84 | iter 10 / 10 | loss 3.57\n",
      "| epoch 85 | iter 10 / 10 | loss 4.92\n",
      "| epoch 86 | iter 10 / 10 | loss 3.86\n",
      "| epoch 87 | iter 10 / 10 | loss 3.45\n",
      "| epoch 88 | iter 10 / 10 | loss 3.68\n",
      "| epoch 89 | iter 10 / 10 | loss 3.55\n",
      "| epoch 90 | iter 10 / 10 | loss 3.42\n",
      "| epoch 91 | iter 10 / 10 | loss 3.57\n",
      "| epoch 92 | iter 10 / 10 | loss 3.63\n",
      "| epoch 93 | iter 10 / 10 | loss 3.41\n",
      "| epoch 94 | iter 10 / 10 | loss 3.47\n",
      "| epoch 95 | iter 10 / 10 | loss 3.5\n",
      "| epoch 96 | iter 10 / 10 | loss 3.41\n",
      "| epoch 97 | iter 10 / 10 | loss 3.41\n",
      "| epoch 98 | iter 10 / 10 | loss 3.41\n",
      "| epoch 99 | iter 10 / 10 | loss 3.41\n",
      "| epoch 100 | iter 10 / 10 | loss 3.57\n",
      "| epoch 101 | iter 10 / 10 | loss 4.44\n",
      "| epoch 102 | iter 10 / 10 | loss 3.91\n",
      "| epoch 103 | iter 10 / 10 | loss 3.4\n",
      "| epoch 104 | iter 10 / 10 | loss 3.94\n",
      "| epoch 105 | iter 10 / 10 | loss 3.56\n",
      "| epoch 106 | iter 10 / 10 | loss 3.45\n",
      "| epoch 107 | iter 10 / 10 | loss 3.46\n",
      "| epoch 108 | iter 10 / 10 | loss 3.42\n",
      "| epoch 109 | iter 10 / 10 | loss 3.4\n",
      "| epoch 110 | iter 10 / 10 | loss 3.4\n",
      "| epoch 111 | iter 10 / 10 | loss 3.4\n",
      "| epoch 112 | iter 10 / 10 | loss 3.42\n",
      "| epoch 113 | iter 10 / 10 | loss 4.57\n",
      "| epoch 114 | iter 10 / 10 | loss 5.05\n",
      "| epoch 115 | iter 10 / 10 | loss 3.97\n",
      "| epoch 116 | iter 10 / 10 | loss 3.41\n",
      "| epoch 117 | iter 10 / 10 | loss 3.41\n",
      "| epoch 118 | iter 10 / 10 | loss 3.41\n",
      "| epoch 119 | iter 10 / 10 | loss 3.48\n",
      "| epoch 120 | iter 10 / 10 | loss 3.49\n",
      "| epoch 121 | iter 10 / 10 | loss 3.46\n",
      "| epoch 122 | iter 10 / 10 | loss 3.53\n",
      "| epoch 123 | iter 10 / 10 | loss 4.31\n",
      "| epoch 124 | iter 10 / 10 | loss 5.55\n",
      "| epoch 125 | iter 10 / 10 | loss 3.73\n",
      "| epoch 126 | iter 10 / 10 | loss 3.45\n",
      "| epoch 127 | iter 10 / 10 | loss 3.44\n",
      "| epoch 128 | iter 10 / 10 | loss 3.58\n",
      "| epoch 129 | iter 10 / 10 | loss 3.66\n",
      "| epoch 130 | iter 10 / 10 | loss 3.52\n",
      "| epoch 131 | iter 10 / 10 | loss 3.62\n",
      "| epoch 132 | iter 10 / 10 | loss 3.6\n",
      "| epoch 133 | iter 10 / 10 | loss 3.58\n",
      "| epoch 134 | iter 10 / 10 | loss 3.59\n",
      "| epoch 135 | iter 10 / 10 | loss 3.64\n",
      "| epoch 136 | iter 10 / 10 | loss 3.68\n",
      "| epoch 137 | iter 10 / 10 | loss 3.47\n",
      "| epoch 138 | iter 10 / 10 | loss 3.43\n",
      "| epoch 139 | iter 10 / 10 | loss 3.64\n",
      "| epoch 140 | iter 10 / 10 | loss 3.51\n",
      "| epoch 141 | iter 10 / 10 | loss 3.41\n",
      "| epoch 142 | iter 10 / 10 | loss 3.55\n",
      "| epoch 143 | iter 10 / 10 | loss 3.6\n",
      "| epoch 144 | iter 10 / 10 | loss 3.88\n",
      "| epoch 145 | iter 10 / 10 | loss 3.63\n",
      "| epoch 146 | iter 10 / 10 | loss 3.41\n",
      "| epoch 147 | iter 10 / 10 | loss 3.41\n",
      "| epoch 148 | iter 10 / 10 | loss 3.41\n",
      "| epoch 149 | iter 10 / 10 | loss 3.43\n",
      "| epoch 150 | iter 10 / 10 | loss 3.41\n",
      "| epoch 151 | iter 10 / 10 | loss 3.41\n",
      "| epoch 152 | iter 10 / 10 | loss 3.47\n",
      "| epoch 153 | iter 10 / 10 | loss 4.18\n",
      "| epoch 154 | iter 10 / 10 | loss 3.85\n",
      "| epoch 155 | iter 10 / 10 | loss 3.61\n",
      "| epoch 156 | iter 10 / 10 | loss 3.46\n",
      "| epoch 157 | iter 10 / 10 | loss 3.41\n",
      "| epoch 158 | iter 10 / 10 | loss 3.44\n",
      "| epoch 159 | iter 10 / 10 | loss 3.45\n",
      "| epoch 160 | iter 10 / 10 | loss 3.82\n",
      "| epoch 161 | iter 10 / 10 | loss 3.88\n",
      "| epoch 162 | iter 10 / 10 | loss 3.72\n",
      "| epoch 163 | iter 10 / 10 | loss 3.74\n",
      "| epoch 164 | iter 10 / 10 | loss 3.73\n",
      "| epoch 165 | iter 10 / 10 | loss 3.64\n",
      "| epoch 166 | iter 10 / 10 | loss 3.79\n",
      "| epoch 167 | iter 10 / 10 | loss 3.9\n",
      "| epoch 168 | iter 10 / 10 | loss 3.85\n",
      "| epoch 169 | iter 10 / 10 | loss 4.4\n",
      "| epoch 170 | iter 10 / 10 | loss 4.69\n",
      "| epoch 171 | iter 10 / 10 | loss 4.38\n",
      "| epoch 172 | iter 10 / 10 | loss 4.23\n",
      "| epoch 173 | iter 10 / 10 | loss 4.71\n",
      "| epoch 174 | iter 10 / 10 | loss 5.36\n",
      "| epoch 175 | iter 10 / 10 | loss 4.92\n",
      "| epoch 176 | iter 10 / 10 | loss 4.01\n",
      "| epoch 177 | iter 10 / 10 | loss 4.43\n",
      "| epoch 178 | iter 10 / 10 | loss 4.71\n",
      "| epoch 179 | iter 10 / 10 | loss 5.15\n",
      "| epoch 180 | iter 10 / 10 | loss 4.25\n",
      "| epoch 181 | iter 10 / 10 | loss 4.49\n",
      "| epoch 182 | iter 10 / 10 | loss 5.04\n",
      "| epoch 183 | iter 10 / 10 | loss 5.19\n",
      "| epoch 184 | iter 10 / 10 | loss 5.35\n",
      "| epoch 185 | iter 10 / 10 | loss 5.41\n",
      "| epoch 186 | iter 10 / 10 | loss 5.19\n",
      "| epoch 187 | iter 10 / 10 | loss 5.64\n",
      "| epoch 188 | iter 10 / 10 | loss 6.11\n",
      "| epoch 189 | iter 10 / 10 | loss 6.68\n",
      "| epoch 190 | iter 10 / 10 | loss 6.88\n",
      "| epoch 191 | iter 10 / 10 | loss 6.79\n",
      "| epoch 192 | iter 10 / 10 | loss 5.47\n",
      "| epoch 193 | iter 10 / 10 | loss 5.6\n",
      "| epoch 194 | iter 10 / 10 | loss 4.94\n",
      "| epoch 195 | iter 10 / 10 | loss 5.03\n",
      "| epoch 196 | iter 10 / 10 | loss 5.32\n",
      "| epoch 197 | iter 10 / 10 | loss 3.82\n",
      "| epoch 198 | iter 10 / 10 | loss 3.61\n",
      "| epoch 199 | iter 10 / 10 | loss 4.49\n",
      "| epoch 200 | iter 10 / 10 | loss 4.31\n",
      "| epoch 201 | iter 10 / 10 | loss 3.8\n",
      "| epoch 202 | iter 10 / 10 | loss 4.22\n",
      "| epoch 203 | iter 10 / 10 | loss 4.59\n",
      "| epoch 204 | iter 10 / 10 | loss 4.68\n",
      "| epoch 205 | iter 10 / 10 | loss 3.75\n",
      "| epoch 206 | iter 10 / 10 | loss 3.44\n",
      "| epoch 207 | iter 10 / 10 | loss 7.49\n",
      "| epoch 208 | iter 10 / 10 | loss 4.32\n",
      "| epoch 209 | iter 10 / 10 | loss 3.7\n",
      "| epoch 210 | iter 10 / 10 | loss 3.64\n",
      "| epoch 211 | iter 10 / 10 | loss 3.64\n",
      "| epoch 212 | iter 10 / 10 | loss 3.85\n",
      "| epoch 213 | iter 10 / 10 | loss 3.9\n",
      "| epoch 214 | iter 10 / 10 | loss 4.0\n",
      "| epoch 215 | iter 10 / 10 | loss 4.49\n",
      "| epoch 216 | iter 10 / 10 | loss 4.15\n",
      "| epoch 217 | iter 10 / 10 | loss 4.29\n",
      "| epoch 218 | iter 10 / 10 | loss 4.13\n",
      "| epoch 219 | iter 10 / 10 | loss 5.86\n",
      "| epoch 220 | iter 10 / 10 | loss 6.61\n",
      "| epoch 221 | iter 10 / 10 | loss 4.0\n",
      "| epoch 222 | iter 10 / 10 | loss 3.69\n",
      "| epoch 223 | iter 10 / 10 | loss 3.97\n",
      "| epoch 224 | iter 10 / 10 | loss 4.32\n",
      "| epoch 225 | iter 10 / 10 | loss 3.91\n",
      "| epoch 226 | iter 10 / 10 | loss 3.99\n",
      "| epoch 227 | iter 10 / 10 | loss 5.19\n",
      "| epoch 228 | iter 10 / 10 | loss 5.57\n",
      "| epoch 229 | iter 10 / 10 | loss 4.64\n",
      "| epoch 230 | iter 10 / 10 | loss 3.57\n",
      "| epoch 231 | iter 10 / 10 | loss 3.86\n",
      "| epoch 232 | iter 10 / 10 | loss 4.44\n",
      "| epoch 233 | iter 10 / 10 | loss 4.05\n",
      "| epoch 234 | iter 10 / 10 | loss 3.53\n",
      "| epoch 235 | iter 10 / 10 | loss 3.64\n",
      "| epoch 236 | iter 10 / 10 | loss 3.74\n",
      "| epoch 237 | iter 10 / 10 | loss 3.49\n",
      "| epoch 238 | iter 10 / 10 | loss 3.46\n",
      "| epoch 239 | iter 10 / 10 | loss 4.53\n",
      "| epoch 240 | iter 10 / 10 | loss 3.77\n",
      "| epoch 241 | iter 10 / 10 | loss 4.92\n",
      "| epoch 242 | iter 10 / 10 | loss 5.54\n",
      "| epoch 243 | iter 10 / 10 | loss 3.97\n",
      "| epoch 244 | iter 10 / 10 | loss 4.41\n",
      "| epoch 245 | iter 10 / 10 | loss 4.35\n",
      "| epoch 246 | iter 10 / 10 | loss 4.52\n",
      "| epoch 247 | iter 10 / 10 | loss 4.69\n",
      "| epoch 248 | iter 10 / 10 | loss 4.18\n",
      "| epoch 249 | iter 10 / 10 | loss 4.78\n",
      "| epoch 250 | iter 10 / 10 | loss 4.18\n",
      "| epoch 251 | iter 10 / 10 | loss 4.56\n",
      "| epoch 252 | iter 10 / 10 | loss 5.31\n",
      "| epoch 253 | iter 10 / 10 | loss 5.86\n",
      "| epoch 254 | iter 10 / 10 | loss 4.28\n",
      "| epoch 255 | iter 10 / 10 | loss 3.95\n",
      "| epoch 256 | iter 10 / 10 | loss 4.45\n",
      "| epoch 257 | iter 10 / 10 | loss 3.87\n",
      "| epoch 258 | iter 10 / 10 | loss 4.76\n",
      "| epoch 259 | iter 10 / 10 | loss 4.15\n",
      "| epoch 260 | iter 10 / 10 | loss 3.8\n",
      "| epoch 261 | iter 10 / 10 | loss 3.65\n",
      "| epoch 262 | iter 10 / 10 | loss 3.83\n",
      "| epoch 263 | iter 10 / 10 | loss 4.04\n",
      "| epoch 264 | iter 10 / 10 | loss 4.1\n",
      "| epoch 265 | iter 10 / 10 | loss 4.39\n",
      "| epoch 266 | iter 10 / 10 | loss 3.77\n",
      "| epoch 267 | iter 10 / 10 | loss 3.53\n",
      "| epoch 268 | iter 10 / 10 | loss 3.83\n",
      "| epoch 269 | iter 10 / 10 | loss 3.67\n",
      "| epoch 270 | iter 10 / 10 | loss 3.55\n",
      "| epoch 271 | iter 10 / 10 | loss 3.96\n",
      "| epoch 272 | iter 10 / 10 | loss 3.86\n",
      "| epoch 273 | iter 10 / 10 | loss 4.01\n",
      "| epoch 274 | iter 10 / 10 | loss 5.34\n",
      "| epoch 275 | iter 10 / 10 | loss 3.65\n",
      "| epoch 276 | iter 10 / 10 | loss 3.65\n",
      "| epoch 277 | iter 10 / 10 | loss 3.75\n",
      "| epoch 278 | iter 10 / 10 | loss 3.72\n",
      "| epoch 279 | iter 10 / 10 | loss 3.65\n",
      "| epoch 280 | iter 10 / 10 | loss 4.88\n",
      "| epoch 281 | iter 10 / 10 | loss 3.59\n",
      "| epoch 282 | iter 10 / 10 | loss 3.81\n",
      "| epoch 283 | iter 10 / 10 | loss 3.71\n",
      "| epoch 284 | iter 10 / 10 | loss 4.07\n",
      "| epoch 285 | iter 10 / 10 | loss 4.08\n",
      "| epoch 286 | iter 10 / 10 | loss 4.38\n",
      "| epoch 287 | iter 10 / 10 | loss 3.7\n",
      "| epoch 288 | iter 10 / 10 | loss 3.97\n",
      "| epoch 289 | iter 10 / 10 | loss 5.45\n",
      "| epoch 290 | iter 10 / 10 | loss 3.84\n",
      "| epoch 291 | iter 10 / 10 | loss 5.14\n",
      "| epoch 292 | iter 10 / 10 | loss 3.72\n",
      "| epoch 293 | iter 10 / 10 | loss 3.61\n",
      "| epoch 294 | iter 10 / 10 | loss 3.49\n",
      "| epoch 295 | iter 10 / 10 | loss 3.46\n",
      "| epoch 296 | iter 10 / 10 | loss 3.62\n",
      "| epoch 297 | iter 10 / 10 | loss 3.66\n",
      "| epoch 298 | iter 10 / 10 | loss 3.61\n",
      "| epoch 299 | iter 10 / 10 | loss 4.02\n",
      "| epoch 300 | iter 10 / 10 | loss 4.75\n",
      "  3.159683 seconds (9.25 M allocations: 531.460 MiB, 3.16% gc time)\n"
     ]
    }
   ],
   "source": [
    "@time train!(model, max_epoch, max_iters, x, t)"
   ]
  }
 ],
 "metadata": {
  "kernelspec": {
   "display_name": "Julia 1.5.2",
   "language": "julia",
   "name": "julia-1.5"
  },
  "language_info": {
   "file_extension": ".jl",
   "mimetype": "application/julia",
   "name": "julia",
   "version": "1.5.2"
  }
 },
 "nbformat": 4,
 "nbformat_minor": 4
}
