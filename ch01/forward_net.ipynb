{
 "cells": [
  {
   "cell_type": "markdown",
   "metadata": {},
   "source": [
    "### 1.2.2 レイヤとしてのクラス化と順伝播の実装"
   ]
  },
  {
   "cell_type": "markdown",
   "metadata": {},
   "source": [
    "- Python版ではレイヤをclassで定義していたが，Juliaではclassの概念が存在しない．\n",
    "  - モデルをコンストラクタで定義し，それにメソッドを作用させていくように考える．\n",
    "- そのため，レイヤに持たせていたメソッド`forward()`と`backward()`，インスタンス変数`params`と`grads`を独立させる．\n",
    "  - メソッドは`function`で定義し，インスタンス変数は`struct`に持たせる．\n",
    "  - Juliaの多重ディスパッチの機構を利用し，同じ名前のメソッドでも型によって異なる処理を呼び出す．\n",
    "    - レイヤを型として定義する．"
   ]
  },
  {
   "cell_type": "code",
   "execution_count": 1,
   "metadata": {},
   "outputs": [],
   "source": [
    "using LinearAlgebra"
   ]
  },
  {
   "cell_type": "code",
   "execution_count": 2,
   "metadata": {},
   "outputs": [],
   "source": [
    "# 抽象型の定義\n",
    "abstract type Layer end"
   ]
  },
  {
   "cell_type": "code",
   "execution_count": 3,
   "metadata": {},
   "outputs": [],
   "source": [
    "# Sigmoidレイヤの定義\n",
    "struct Sigmoid <: Layer\n",
    "    a\n",
    "    # コンストラクタメソッド\n",
    "    Sigmoid() = new()\n",
    "end"
   ]
  },
  {
   "cell_type": "code",
   "execution_count": 4,
   "metadata": {},
   "outputs": [],
   "source": [
    "# Affineレイヤの定義\n",
    "struct Affine <: Layer\n",
    "    W\n",
    "    b\n",
    "end"
   ]
  },
  {
   "cell_type": "code",
   "execution_count": 5,
   "metadata": {},
   "outputs": [
    {
     "data": {
      "text/plain": [
       "forward (generic function with 1 method)"
      ]
     },
     "execution_count": 5,
     "metadata": {},
     "output_type": "execute_result"
    }
   ],
   "source": [
    "# Python版のSigmoidクラスのforward()\n",
    "function forward(x, params::Sigmoid)\n",
    "    return 1.0 ./ (1.0 .+ exp.(-x))\n",
    "end"
   ]
  },
  {
   "cell_type": "code",
   "execution_count": 6,
   "metadata": {},
   "outputs": [
    {
     "data": {
      "text/plain": [
       "forward (generic function with 2 methods)"
      ]
     },
     "execution_count": 6,
     "metadata": {},
     "output_type": "execute_result"
    }
   ],
   "source": [
    "# Python版のAffineクラスのforward()\n",
    "function forward(x, params::Affine)\n",
    "    return x * params.W .+ reshape(params.b, 1, :) # bを1x4 Arrayにreshape\n",
    "end"
   ]
  },
  {
   "cell_type": "code",
   "execution_count": 7,
   "metadata": {},
   "outputs": [],
   "source": [
    "# TwoLayerNetの定義\n",
    "mutable struct TwoLayerNet\n",
    "    I # input_size\n",
    "    H # hidden_size\n",
    "    O # output_size\n",
    "    W1\n",
    "    b1\n",
    "    W2\n",
    "    b2\n",
    "    layers\n",
    "    \n",
    "    # コンストラクタメソッド\n",
    "    function TwoLayerNet(I, H, O)\n",
    "        # 重みとバイアスの初期化\n",
    "        W1 = randn(I, H)\n",
    "        b1 = randn(H)\n",
    "        W2 = randn(H, O)\n",
    "        b2 = randn(O)\n",
    "        \n",
    "        # レイヤの生成\n",
    "        layers = [\n",
    "            Affine(W1, b1),\n",
    "            Sigmoid(),\n",
    "            Affine(W2, b2)\n",
    "        ]\n",
    "        new(I, H, O, W1, b1, W2, b2, layers)\n",
    "    end\n",
    "end"
   ]
  },
  {
   "cell_type": "code",
   "execution_count": 8,
   "metadata": {},
   "outputs": [
    {
     "data": {
      "text/plain": [
       "predict (generic function with 1 method)"
      ]
     },
     "execution_count": 8,
     "metadata": {},
     "output_type": "execute_result"
    }
   ],
   "source": [
    "# Python版のTwoLayerNetのpredict()\n",
    "function predict(x, model::TwoLayerNet)\n",
    "    for layer in model.layers\n",
    "        x = forward(x, layer)\n",
    "    end\n",
    "    return x\n",
    "end"
   ]
  },
  {
   "cell_type": "code",
   "execution_count": 9,
   "metadata": {},
   "outputs": [
    {
     "data": {
      "text/plain": [
       "10×3 Array{Float64,2}:\n",
       " -3.53433  -2.31897    0.200002\n",
       " -2.3876   -1.27827   -0.192078\n",
       " -1.78165  -0.775269   0.0106457\n",
       " -1.89293  -0.801865   0.0831063\n",
       " -3.39707  -2.21111    0.293754\n",
       " -3.51111  -2.29646    0.178192\n",
       " -3.10325  -1.38386   -0.956893\n",
       " -2.21165  -0.890576  -0.703168\n",
       " -3.77391  -1.92597   -0.934131\n",
       " -1.82843  -0.802474   0.017584"
      ]
     },
     "execution_count": 9,
     "metadata": {},
     "output_type": "execute_result"
    }
   ],
   "source": [
    "x = randn(10, 2)\n",
    "model = TwoLayerNet(2, 4, 3)\n",
    "s = predict(x, model)"
   ]
  }
 ],
 "metadata": {
  "kernelspec": {
   "display_name": "Julia 1.4.2",
   "language": "julia",
   "name": "julia-1.4"
  },
  "language_info": {
   "file_extension": ".jl",
   "mimetype": "application/julia",
   "name": "julia",
   "version": "1.4.2"
  }
 },
 "nbformat": 4,
 "nbformat_minor": 4
}
