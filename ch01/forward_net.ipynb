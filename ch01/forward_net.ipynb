{
 "cells": [
  {
   "cell_type": "markdown",
   "metadata": {},
   "source": [
    "### 1.2.2 レイヤとしてのクラス化と順伝播の実装"
   ]
  },
  {
   "cell_type": "markdown",
   "metadata": {},
   "source": [
    "- Python版ではレイヤをclassで定義していたが，Juliaではclassの概念が存在しない．\n",
    "  - モデルをコンストラクタで定義し，それにメソッドを作用させていくように考える．\n",
    "- そのため，レイヤに持たせていたメソッド`forward()`と`backward()`，インスタンス変数`params`と`grads`を独立させる．\n",
    "  - メソッドは`function`で定義し，インスタンス変数は`struct`に持たせる．\n",
    "  - Juliaの多重ディスパッチの機構を利用し，同じ名前のメソッドでも型によって異なる処理を呼び出す．\n",
    "    - レイヤを型として定義する．"
   ]
  },
  {
   "cell_type": "code",
   "execution_count": 1,
   "metadata": {},
   "outputs": [],
   "source": [
    "# 抽象型の定義\n",
    "abstract type Layer end"
   ]
  },
  {
   "cell_type": "code",
   "execution_count": 2,
   "metadata": {},
   "outputs": [],
   "source": [
    "# Sigmoidレイヤの定義\n",
    "mutable struct Sigmoid <: Layer\n",
    "    params\n",
    "    # コンストラクタメソッド\n",
    "    Sigmoid() = new()\n",
    "end"
   ]
  },
  {
   "cell_type": "code",
   "execution_count": 3,
   "metadata": {},
   "outputs": [],
   "source": [
    "# Affineレイヤの定義\n",
    "mutable struct Affine <: Layer\n",
    "    params\n",
    "    W\n",
    "    b\n",
    "    function Affine(W, b)\n",
    "        params = (W, b)\n",
    "        new(params)\n",
    "    end\n",
    "end"
   ]
  },
  {
   "cell_type": "code",
   "execution_count": 4,
   "metadata": {},
   "outputs": [
    {
     "data": {
      "text/plain": [
       "forward (generic function with 1 method)"
      ]
     },
     "execution_count": 4,
     "metadata": {},
     "output_type": "execute_result"
    }
   ],
   "source": [
    "# Python版のSigmoidクラスのforward()\n",
    "function forward(self::Sigmoid, x) # デフォルトの引数を指定することを考慮して，selfを最初に指定する\n",
    "    return 1.0 ./ (1.0 .+ exp.(-x))\n",
    "end"
   ]
  },
  {
   "cell_type": "code",
   "execution_count": 5,
   "metadata": {},
   "outputs": [
    {
     "data": {
      "text/plain": [
       "forward (generic function with 2 methods)"
      ]
     },
     "execution_count": 5,
     "metadata": {},
     "output_type": "execute_result"
    }
   ],
   "source": [
    "# Python版のAffineクラスのforward()\n",
    "function forward(self::Affine, x)\n",
    "    W, b = self.params\n",
    "    return x * W .+ reshape(b, 1, :) # bを1x4 Arrayにreshape\n",
    "end"
   ]
  },
  {
   "cell_type": "code",
   "execution_count": 6,
   "metadata": {},
   "outputs": [],
   "source": [
    "# TwoLayerNetの定義\n",
    "mutable struct TwoLayerNet\n",
    "    I # input_size\n",
    "    H # hidden_size\n",
    "    O # output_size\n",
    "    W1\n",
    "    b1\n",
    "    W2\n",
    "    b2\n",
    "    layers\n",
    "    \n",
    "    # コンストラクタメソッド\n",
    "    function TwoLayerNet(I, H, O)\n",
    "        # 重みとバイアスの初期化\n",
    "        W1 = randn(I, H)\n",
    "        b1 = randn(H)\n",
    "        W2 = randn(H, O)\n",
    "        b2 = randn(O)\n",
    "        \n",
    "        # レイヤの生成\n",
    "        layers = [\n",
    "            Affine(W1, b1),\n",
    "            Sigmoid(),\n",
    "            Affine(W2, b2)\n",
    "        ]\n",
    "        new(I, H, O, W1, b1, W2, b2, layers)\n",
    "    end\n",
    "end"
   ]
  },
  {
   "cell_type": "code",
   "execution_count": 7,
   "metadata": {},
   "outputs": [
    {
     "data": {
      "text/plain": [
       "predict (generic function with 1 method)"
      ]
     },
     "execution_count": 7,
     "metadata": {},
     "output_type": "execute_result"
    }
   ],
   "source": [
    "# Python版のTwoLayerNetのpredict()\n",
    "function predict(self::TwoLayerNet, x)\n",
    "    for layer in self.layers\n",
    "        x = forward(layer, x)\n",
    "    end\n",
    "    return x\n",
    "end"
   ]
  },
  {
   "cell_type": "code",
   "execution_count": 8,
   "metadata": {},
   "outputs": [
    {
     "data": {
      "text/plain": [
       "10×3 Array{Float64,2}:\n",
       " 1.04541    0.626532   0.715811\n",
       " 0.894227   0.93156    0.594773\n",
       " 0.689666   0.97653    0.399264\n",
       " 1.12305    0.731338   0.772146\n",
       " 1.33759   -0.0305813  0.960755\n",
       " 0.936619   1.05838    0.635785\n",
       " 0.783455   0.706819   0.50651\n",
       " 0.969139   0.607946   0.655325\n",
       " 0.868811   0.747106   0.573951\n",
       " 0.776047   1.02521    0.477398"
      ]
     },
     "execution_count": 8,
     "metadata": {},
     "output_type": "execute_result"
    }
   ],
   "source": [
    "x = randn(10, 2)\n",
    "model = TwoLayerNet(2, 4, 3)\n",
    "s = predict(model, x)"
   ]
  }
 ],
 "metadata": {
  "kernelspec": {
   "display_name": "Julia 1.4.2",
   "language": "julia",
   "name": "julia-1.4"
  },
  "language_info": {
   "file_extension": ".jl",
   "mimetype": "application/julia",
   "name": "julia",
   "version": "1.4.2"
  }
 },
 "nbformat": 4,
 "nbformat_minor": 4
}
